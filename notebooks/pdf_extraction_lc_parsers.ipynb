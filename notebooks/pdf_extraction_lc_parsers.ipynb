{
 "cells": [
  {
   "cell_type": "code",
   "execution_count": 3,
   "metadata": {},
   "outputs": [
    {
     "data": {
      "application/javascript": "IPython.notebook.set_autosave_interval(300000)"
     },
     "metadata": {},
     "output_type": "display_data"
    },
    {
     "name": "stdout",
     "output_type": "stream",
     "text": [
      "Autosaving every 300 seconds\n"
     ]
    }
   ],
   "source": [
    "%autosave 300\n",
    "%load_ext autoreload\n",
    "%autoreload 2\n",
    "%reload_ext autoreload\n",
    "%config Completer.use_jedi = False"
   ]
  },
  {
   "cell_type": "code",
   "execution_count": 4,
   "metadata": {},
   "outputs": [
    {
     "name": "stdout",
     "output_type": "stream",
     "text": [
      "/mnt/batch/tasks/shared/LS_root/mounts/clusters/copilot-model-run/code/Users/Soutrik.Chowdhury/unstructured_data_experiments\n"
     ]
    }
   ],
   "source": [
    "import os\n",
    "\n",
    "os.chdir(\n",
    "    \"/mnt/batch/tasks/shared/LS_root/mounts/clusters/copilot-model-run/code/Users/Soutrik.Chowdhury/unstructured_data_experiments\"\n",
    ")\n",
    "print(os.getcwd())"
   ]
  },
  {
   "cell_type": "code",
   "execution_count": 5,
   "metadata": {},
   "outputs": [],
   "source": [
    "from pdf2image import convert_from_path\n",
    "from langchain_core.output_parsers import StrOutputParser\n",
    "from langchain_core.prompts import PromptTemplate\n",
    "from langchain_openai import AzureChatOpenAI\n",
    "from langchain.prompts import (\n",
    "    ChatPromptTemplate,\n",
    "    HumanMessagePromptTemplate,\n",
    "    MessagesPlaceholder,\n",
    "    SystemMessagePromptTemplate,\n",
    ")\n",
    "from dotenv import load_dotenv, find_dotenv\n",
    "import base64\n",
    "import requests\n",
    "import json\n",
    "from datetime import datetime\n",
    "from langchain.schema import Document\n",
    "import re\n",
    "import shutil\n",
    "from joblib import Parallel, delayed\n",
    "from functools import partial\n",
    "import pickle\n",
    "from IPython.display import Image, display\n",
    "from langchain_core.runnables import RunnableLambda\n",
    "from langchain_core.pydantic_v1 import BaseModel, Field\n",
    "from langchain_core.output_parsers import JsonOutputParser, StrOutputParser\n",
    "import asyncio\n",
    "import nest_asyncio\n",
    "from glob import glob"
   ]
  },
  {
   "cell_type": "code",
   "execution_count": 6,
   "metadata": {},
   "outputs": [
    {
     "data": {
      "text/plain": [
       "True"
      ]
     },
     "execution_count": 6,
     "metadata": {},
     "output_type": "execute_result"
    }
   ],
   "source": [
    "load_dotenv(find_dotenv(\"dev.env\"))"
   ]
  },
  {
   "cell_type": "code",
   "execution_count": 7,
   "metadata": {},
   "outputs": [],
   "source": [
    "import pdfplumber\n",
    "import tabula\n",
    "import pymupdf"
   ]
  },
  {
   "cell_type": "code",
   "execution_count": 8,
   "metadata": {},
   "outputs": [],
   "source": [
    "# pdfFileObj = open(\"data/1. MSA Gateware (Enteron) 1.pdf\", 'rb') \n",
    "# pdfReader = PyPDF2.PdfFileReader(pdfFileObj) \n",
    "# pageObj = pdfReader.getPage(0) "
   ]
  },
  {
   "cell_type": "code",
   "execution_count": 52,
   "metadata": {},
   "outputs": [
    {
     "name": "stderr",
     "output_type": "stream",
     "text": [
      "Aug 26, 2024 9:09:41 AM org.apache.pdfbox.pdmodel.font.PDTrueTypeFont <init>\n",
      "WARNING: Using fallback font 'LiberationSans' for 'ArialMT'\n",
      "Aug 26, 2024 9:09:41 AM org.apache.pdfbox.pdmodel.font.PDTrueTypeFont <init>\n",
      "WARNING: Using fallback font 'LiberationSans' for 'Arial-BoldMT'\n"
     ]
    }
   ],
   "source": [
    "dfs = tabula.read_pdf(\n",
    "    \"data/1. MSA Gateware (Enteron) 1.pdf\", pages=\"17\", multiple_tables=False\n",
    ")"
   ]
  },
  {
   "cell_type": "code",
   "execution_count": 53,
   "metadata": {},
   "outputs": [
    {
     "data": {
      "text/plain": [
       "1"
      ]
     },
     "execution_count": 53,
     "metadata": {},
     "output_type": "execute_result"
    }
   ],
   "source": [
    "len(dfs)"
   ]
  },
  {
   "cell_type": "code",
   "execution_count": 54,
   "metadata": {},
   "outputs": [
    {
     "data": {
      "text/html": [
       "<div>\n",
       "<style scoped>\n",
       "    .dataframe tbody tr th:only-of-type {\n",
       "        vertical-align: middle;\n",
       "    }\n",
       "\n",
       "    .dataframe tbody tr th {\n",
       "        vertical-align: top;\n",
       "    }\n",
       "\n",
       "    .dataframe thead th {\n",
       "        text-align: right;\n",
       "    }\n",
       "</style>\n",
       "<table border=\"1\" class=\"dataframe\">\n",
       "  <thead>\n",
       "    <tr style=\"text-align: right;\">\n",
       "      <th></th>\n",
       "      <th>DocuSign Envelope ID: 3BDE136F-BA28-419D-A682-AAAD1BA87428</th>\n",
       "    </tr>\n",
       "  </thead>\n",
       "  <tbody>\n",
       "    <tr>\n",
       "      <th>0</th>\n",
       "      <td>of goods or services to AB InBev or the releva...</td>\n",
       "    </tr>\n",
       "    <tr>\n",
       "      <th>1</th>\n",
       "      <td>with a copy of AB InBev's Anti-Bribery Policy ...</td>\n",
       "    </tr>\n",
       "    <tr>\n",
       "      <th>2</th>\n",
       "      <td>providing goods or services pursuant to or in ...</td>\n",
       "    </tr>\n",
       "    <tr>\n",
       "      <th>3</th>\n",
       "      <td>its Associated Parties and sub-contractors wil...</td>\n",
       "    </tr>\n",
       "    <tr>\n",
       "      <th>4</th>\n",
       "      <td>5.5AB InBev is committed to observing applicab...</td>\n",
       "    </tr>\n",
       "    <tr>\n",
       "      <th>...</th>\n",
       "      <td>...</td>\n",
       "    </tr>\n",
       "    <tr>\n",
       "      <th>64</th>\n",
       "      <td>nd b collectively, “Sanctions”)</td>\n",
       "    </tr>\n",
       "    <tr>\n",
       "      <th>65</th>\n",
       "      <td>(ii)  that is, or is part of, a government of ...</td>\n",
       "    </tr>\n",
       "    <tr>\n",
       "      <th>66</th>\n",
       "      <td>ountrywide sanctions imposed by a Sanctions au...</td>\n",
       "    </tr>\n",
       "    <tr>\n",
       "      <th>67</th>\n",
       "      <td>egion, Cuba, Iran, North Korea, Sudan, and Syr...</td>\n",
       "    </tr>\n",
       "    <tr>\n",
       "      <th>68</th>\n",
       "      <td>(iii)  directly or indirectly owned or control...</td>\n",
       "    </tr>\n",
       "  </tbody>\n",
       "</table>\n",
       "<p>69 rows × 1 columns</p>\n",
       "</div>"
      ],
      "text/plain": [
       "   DocuSign Envelope ID: 3BDE136F-BA28-419D-A682-AAAD1BA87428\n",
       "0   of goods or services to AB InBev or the releva...        \n",
       "1   with a copy of AB InBev's Anti-Bribery Policy ...        \n",
       "2   providing goods or services pursuant to or in ...        \n",
       "3   its Associated Parties and sub-contractors wil...        \n",
       "4   5.5AB InBev is committed to observing applicab...        \n",
       "..                                                ...        \n",
       "64                    nd b collectively, “Sanctions”)        \n",
       "65  (ii)  that is, or is part of, a government of ...        \n",
       "66  ountrywide sanctions imposed by a Sanctions au...        \n",
       "67  egion, Cuba, Iran, North Korea, Sudan, and Syr...        \n",
       "68  (iii)  directly or indirectly owned or control...        \n",
       "\n",
       "[69 rows x 1 columns]"
      ]
     },
     "execution_count": 54,
     "metadata": {},
     "output_type": "execute_result"
    }
   ],
   "source": [
    "dfs[0]"
   ]
  },
  {
   "cell_type": "code",
   "execution_count": 55,
   "metadata": {},
   "outputs": [],
   "source": [
    "doc = pymupdf.open(\"data/1. MSA Gateware (Enteron) 1.pdf\")"
   ]
  },
  {
   "cell_type": "code",
   "execution_count": 56,
   "metadata": {},
   "outputs": [],
   "source": [
    "page = doc[16]"
   ]
  },
  {
   "cell_type": "code",
   "execution_count": 14,
   "metadata": {},
   "outputs": [],
   "source": [
    "# dir(page)"
   ]
  },
  {
   "cell_type": "code",
   "execution_count": 15,
   "metadata": {},
   "outputs": [
    {
     "data": {
      "text/plain": [
       "[{'number': 0,\n",
       "  'bbox': (104.46800231933594,\n",
       "   236.06802368164062,\n",
       "   490.8900146484375,\n",
       "   622.489990234375),\n",
       "  'transform': (373.2699890136719,\n",
       "   -373.2699890136719,\n",
       "   13.152000427246094,\n",
       "   13.152000427246094,\n",
       "   104.46800231933594,\n",
       "   609.3380126953125),\n",
       "  'width': 1466,\n",
       "  'height': 51,\n",
       "  'colorspace': 3,\n",
       "  'cs-name': 'DeviceRGB',\n",
       "  'xres': 96,\n",
       "  'yres': 96,\n",
       "  'bpc': 8,\n",
       "  'size': 1081}]"
      ]
     },
     "execution_count": 15,
     "metadata": {},
     "output_type": "execute_result"
    }
   ],
   "source": [
    "page.get_image_info()"
   ]
  },
  {
   "cell_type": "code",
   "execution_count": 16,
   "metadata": {},
   "outputs": [
    {
     "data": {
      "text/plain": [
       "[(286, 381, 1466, 51, 8, 'DeviceRGB', '', 'Image26', 'FlateDecode')]"
      ]
     },
     "execution_count": 16,
     "metadata": {},
     "output_type": "execute_result"
    }
   ],
   "source": [
    "page.get_images()"
   ]
  },
  {
   "cell_type": "code",
   "execution_count": 57,
   "metadata": {},
   "outputs": [
    {
     "data": {
      "text/plain": [
       "[<pymupdf.table.Table at 0x7ff4872df670>,\n",
       " <pymupdf.table.Table at 0x7ff3817ce560>,\n",
       " <pymupdf.table.Table at 0x7ff380a30940>,\n",
       " <pymupdf.table.Table at 0x7ff380a312a0>,\n",
       " <pymupdf.table.Table at 0x7ff380a30a00>]"
      ]
     },
     "execution_count": 57,
     "metadata": {},
     "output_type": "execute_result"
    }
   ],
   "source": [
    "page.find_tables().tables"
   ]
  },
  {
   "cell_type": "code",
   "execution_count": 58,
   "metadata": {},
   "outputs": [],
   "source": [
    "tabs = page.find_tables().tables"
   ]
  },
  {
   "cell_type": "code",
   "execution_count": 59,
   "metadata": {},
   "outputs": [],
   "source": [
    "tb = tabs[0]"
   ]
  },
  {
   "cell_type": "code",
   "execution_count": 20,
   "metadata": {},
   "outputs": [],
   "source": [
    "# dir(tb)"
   ]
  },
  {
   "cell_type": "code",
   "execution_count": 60,
   "metadata": {},
   "outputs": [
    {
     "name": "stdout",
     "output_type": "stream",
     "text": [
      "|Col1|of goods or services to AB InBev or the relevant AB InBev Affiliates under this Agreement (&quot;sub&amp;#45;contractors&quot;) are provided|Col3|Col4|Col5|Col6|Col7|\n",
      "|---|---|---|---|---|---|---|\n",
      "||with a copy of AB InBev&#x27;s Anti&amp;#45;Bribery Policy for Suppliers (&quot;Code&quot;) and AB InBev’s Responsible Sourcing Policy. When||||||\n",
      "||providing goods or services pursuant to or in connection with this Agreement, the Service Provider will, and will ensure that||||||\n",
      "||its Associated Parties and sub&amp;#45;contractors will, comply with the principles set out in the Code.||||||\n",
      "|25.5 AB InBev is committed to observing applicable anti&amp;#45;corruption laws of the countries in which AB InBev and its affiliates|||||||\n",
      "||operate, including the United States Foreign Corrupt Practices Act (“FCPA”), UK Bribery Act, and other applicable laws||||||\n",
      "||dealing with bribery, corrupt practices, or money&amp;#45;laundering (“Anti&amp;#45;Corruption Laws”). AB InBev requires its Service||||||\n",
      "||Providers, and its Associated Parties, to comply with AB InBev’s ethical standards when dealing with third parties on behalf||||||\n",
      "||of AB InBev or in connection with an agreement with AB InBev. Service Provider understands and acknowledges the||||||\n",
      "||importance to AB InBev of compliance with these obligations and agrees to abide by the terms and spirit of this provision.||||||\n",
      "|25.6 The Service Provider accordingly represents and warrants to AB InBev, as of the date hereof and the date that any invoice|||||||\n",
      "|for goods or services is submitted, that: (a) it, and any of its Associated Parties, shall be bound by, and is and will remain in compliance with all applicable Anti&amp;#45; Corruption Laws, including the laws of the country in which goods are produced and/or delivered and/or services are to be performed pursuant to this Agreement; (b) neither it nor any of its Associated Parties will, directly or indirectly, offer, pay, promise to pay, or authorize the payment of any money, or offer, give, promise to give, or authorize the giving of any financial or other advantage or anything else of value: (i) to any official or employee of any government, or any department, agency, any political party or official thereof, any candidate for political office, any official or employee of any public international organization, or any person acting in an official capacity for or on behalf of any such government, department, agency, party, or organization (“Public Official”), in each case for the purpose of (a) influencing or rewarding any act or decision of such official, employee, party or candidate, or (b) inducing such official, employee, party or candidate to do or omit to do any act in violation of his or her lawful duty, (c) inducing such official, employee, party or candidate to use its or his influence with a foreign government or instrumentality thereof to affect or influence any act or decision of such government or instrumentality, or (d) securing any improper advantage for the Service Provider or AB InBev; or (ii) to any officer, employee, agent, or representative of another company or organization, with the intent to influence the recipient’s action with respect to his or her company’s business, or to gain a commercial benefit to the detriment of the recipient’s company or organization, or to induce the recipient to violate a duty of loyalty to his employer; or (iii) which a reasonable person would otherwise consider to be unethical, illegal or improper (collectively, with the acts described in the previous subsections, a &quot;Corrupt Act&quot;).|for goods or services is submitted, that:||||||\n",
      "||(a) it, and any of its Associated Parties, shall be bound by, and is and will remain in compliance with all applicable Anti&amp;#45;||||||\n",
      "|||Corruption Laws, including the laws of the country in which goods are produced and/or delivered and/or services are|||||\n",
      "|||to be performed pursuant to this Agreement;|||||\n",
      "||(b) neither it nor any of its Associated Parties will, directly or indirectly, offer, pay, promise to pay, or authorize the payment||||||\n",
      "|||of any money, or offer, give, promise to give, or authorize the giving of any financial or other advantage or anything|||||\n",
      "|||else of value:|||||\n",
      "|||(i) to any official or employee of any government, or any department, agency, any political party or official thereof,|||||\n",
      "||||any candidate for political office, any official or employee of any public international organization, or any person||||\n",
      "||||acting in an official capacity for or on behalf of any such government, department, agency, party, or organizatio||||\n",
      "||||(“Public Official”), in each case for the purpose of (a) influencing or rewarding any act or decision of such||||\n",
      "||||official, employee, party or candidate, or (b) inducing such official, employee, party or candidate to do or omit to||||\n",
      "||||do any act in violation of his or her lawful duty, (c) inducing such official, employee, party or candidate to use its||||\n",
      "||||or his influence with a foreign government or instrumentality thereof to affect or influence any act or decision of||||\n",
      "||||such government or instrumentality, or (d) securing any improper advantage for the Service Provider or AB||||\n",
      "||||InBev; or||||\n",
      "\n",
      "\n"
     ]
    }
   ],
   "source": [
    "print(tb.to_markdown())"
   ]
  },
  {
   "cell_type": "code",
   "execution_count": 22,
   "metadata": {},
   "outputs": [
    {
     "data": {
      "text/plain": [
       "(72.02400207519531, 75.239990234375, 523.2589233398437, 385.6099853515625)"
      ]
     },
     "execution_count": 22,
     "metadata": {},
     "output_type": "execute_result"
    }
   ],
   "source": [
    "tb.bbox"
   ]
  },
  {
   "cell_type": "code",
   "execution_count": 23,
   "metadata": {},
   "outputs": [
    {
     "data": {
      "text/html": [
       "<div>\n",
       "<style scoped>\n",
       "    .dataframe tbody tr th:only-of-type {\n",
       "        vertical-align: middle;\n",
       "    }\n",
       "\n",
       "    .dataframe tbody tr th {\n",
       "        vertical-align: top;\n",
       "    }\n",
       "\n",
       "    .dataframe thead th {\n",
       "        text-align: right;\n",
       "    }\n",
       "</style>\n",
       "<table border=\"1\" class=\"dataframe\">\n",
       "  <thead>\n",
       "    <tr style=\"text-align: right;\">\n",
       "      <th></th>\n",
       "      <th>Col0</th>\n",
       "      <th>of goods or services to AB InBev or the relevant AB InBev Affiliates under this Agreement (\"sub-contractors\") are provided</th>\n",
       "      <th>Col2</th>\n",
       "      <th>Col3</th>\n",
       "      <th>Col4</th>\n",
       "      <th>Col5</th>\n",
       "      <th>Col6</th>\n",
       "    </tr>\n",
       "  </thead>\n",
       "  <tbody>\n",
       "    <tr>\n",
       "      <th>0</th>\n",
       "      <td>None</td>\n",
       "      <td>with a copy of AB InBev's Anti-Bribery Policy ...</td>\n",
       "      <td>None</td>\n",
       "      <td>None</td>\n",
       "      <td>None</td>\n",
       "      <td>None</td>\n",
       "      <td>None</td>\n",
       "    </tr>\n",
       "    <tr>\n",
       "      <th>1</th>\n",
       "      <td>None</td>\n",
       "      <td>providing goods or services pursuant to or in ...</td>\n",
       "      <td>None</td>\n",
       "      <td>None</td>\n",
       "      <td>None</td>\n",
       "      <td>None</td>\n",
       "      <td>None</td>\n",
       "    </tr>\n",
       "    <tr>\n",
       "      <th>2</th>\n",
       "      <td>None</td>\n",
       "      <td>its Associated Parties and sub-contractors wil...</td>\n",
       "      <td>None</td>\n",
       "      <td>None</td>\n",
       "      <td>None</td>\n",
       "      <td>None</td>\n",
       "      <td></td>\n",
       "    </tr>\n",
       "    <tr>\n",
       "      <th>3</th>\n",
       "      <td>25.5 AB InBev is committed to observing applic...</td>\n",
       "      <td>None</td>\n",
       "      <td>None</td>\n",
       "      <td>None</td>\n",
       "      <td>None</td>\n",
       "      <td>None</td>\n",
       "      <td>None</td>\n",
       "    </tr>\n",
       "    <tr>\n",
       "      <th>4</th>\n",
       "      <td></td>\n",
       "      <td>operate, including the United States Foreign C...</td>\n",
       "      <td>None</td>\n",
       "      <td>None</td>\n",
       "      <td>None</td>\n",
       "      <td>None</td>\n",
       "      <td>None</td>\n",
       "    </tr>\n",
       "    <tr>\n",
       "      <th>5</th>\n",
       "      <td>None</td>\n",
       "      <td>dealing with bribery, corrupt practices, or mo...</td>\n",
       "      <td>None</td>\n",
       "      <td>None</td>\n",
       "      <td>None</td>\n",
       "      <td>None</td>\n",
       "      <td>None</td>\n",
       "    </tr>\n",
       "    <tr>\n",
       "      <th>6</th>\n",
       "      <td>None</td>\n",
       "      <td>Providers, and its Associated Parties, to comp...</td>\n",
       "      <td>None</td>\n",
       "      <td>None</td>\n",
       "      <td>None</td>\n",
       "      <td>None</td>\n",
       "      <td>None</td>\n",
       "    </tr>\n",
       "    <tr>\n",
       "      <th>7</th>\n",
       "      <td>None</td>\n",
       "      <td>of AB InBev or in connection with an agreement...</td>\n",
       "      <td>None</td>\n",
       "      <td>None</td>\n",
       "      <td>None</td>\n",
       "      <td>None</td>\n",
       "      <td>None</td>\n",
       "    </tr>\n",
       "    <tr>\n",
       "      <th>8</th>\n",
       "      <td>None</td>\n",
       "      <td>importance to AB InBev of compliance with thes...</td>\n",
       "      <td>None</td>\n",
       "      <td>None</td>\n",
       "      <td>None</td>\n",
       "      <td>None</td>\n",
       "      <td>None</td>\n",
       "    </tr>\n",
       "    <tr>\n",
       "      <th>9</th>\n",
       "      <td>25.6 The Service Provider accordingly represen...</td>\n",
       "      <td>None</td>\n",
       "      <td>None</td>\n",
       "      <td>None</td>\n",
       "      <td>None</td>\n",
       "      <td>None</td>\n",
       "      <td>None</td>\n",
       "    </tr>\n",
       "    <tr>\n",
       "      <th>10</th>\n",
       "      <td>for goods or services is submitted, that:\\n(a)...</td>\n",
       "      <td>for goods or services is submitted, that:</td>\n",
       "      <td>None</td>\n",
       "      <td>None</td>\n",
       "      <td></td>\n",
       "      <td>None</td>\n",
       "      <td>None</td>\n",
       "    </tr>\n",
       "    <tr>\n",
       "      <th>11</th>\n",
       "      <td>None</td>\n",
       "      <td>(a) it, and any of its Associated Parties, sha...</td>\n",
       "      <td>None</td>\n",
       "      <td>None</td>\n",
       "      <td>None</td>\n",
       "      <td>None</td>\n",
       "      <td>None</td>\n",
       "    </tr>\n",
       "    <tr>\n",
       "      <th>12</th>\n",
       "      <td>None</td>\n",
       "      <td>None</td>\n",
       "      <td>Corruption Laws, including the laws of the cou...</td>\n",
       "      <td>None</td>\n",
       "      <td>None</td>\n",
       "      <td>None</td>\n",
       "      <td>None</td>\n",
       "    </tr>\n",
       "    <tr>\n",
       "      <th>13</th>\n",
       "      <td>None</td>\n",
       "      <td>None</td>\n",
       "      <td>to be performed pursuant to this Agreement;</td>\n",
       "      <td>None</td>\n",
       "      <td>None</td>\n",
       "      <td></td>\n",
       "      <td>None</td>\n",
       "    </tr>\n",
       "    <tr>\n",
       "      <th>14</th>\n",
       "      <td>None</td>\n",
       "      <td>(b) neither it nor any of its Associated Parti...</td>\n",
       "      <td>None</td>\n",
       "      <td>None</td>\n",
       "      <td>None</td>\n",
       "      <td>None</td>\n",
       "      <td>None</td>\n",
       "    </tr>\n",
       "    <tr>\n",
       "      <th>15</th>\n",
       "      <td>None</td>\n",
       "      <td>None</td>\n",
       "      <td>of any money, or offer, give, promise to give,...</td>\n",
       "      <td>None</td>\n",
       "      <td>None</td>\n",
       "      <td>None</td>\n",
       "      <td>None</td>\n",
       "    </tr>\n",
       "    <tr>\n",
       "      <th>16</th>\n",
       "      <td>None</td>\n",
       "      <td>None</td>\n",
       "      <td>else of value:</td>\n",
       "      <td>None</td>\n",
       "      <td>None</td>\n",
       "      <td>None</td>\n",
       "      <td>None</td>\n",
       "    </tr>\n",
       "    <tr>\n",
       "      <th>17</th>\n",
       "      <td>None</td>\n",
       "      <td>None</td>\n",
       "      <td>(i) to any official or employee of any governm...</td>\n",
       "      <td>None</td>\n",
       "      <td>None</td>\n",
       "      <td>None</td>\n",
       "      <td>None</td>\n",
       "    </tr>\n",
       "    <tr>\n",
       "      <th>18</th>\n",
       "      <td>None</td>\n",
       "      <td>None</td>\n",
       "      <td>None</td>\n",
       "      <td>any candidate for political office, any offici...</td>\n",
       "      <td>None</td>\n",
       "      <td>None</td>\n",
       "      <td>None</td>\n",
       "    </tr>\n",
       "    <tr>\n",
       "      <th>19</th>\n",
       "      <td>None</td>\n",
       "      <td>None</td>\n",
       "      <td>None</td>\n",
       "      <td>acting in an official capacity for or on behal...</td>\n",
       "      <td>None</td>\n",
       "      <td>None</td>\n",
       "      <td>None</td>\n",
       "    </tr>\n",
       "    <tr>\n",
       "      <th>20</th>\n",
       "      <td>None</td>\n",
       "      <td>None</td>\n",
       "      <td>None</td>\n",
       "      <td>(“Public Official”), in each case for the purp...</td>\n",
       "      <td>None</td>\n",
       "      <td>None</td>\n",
       "      <td>None</td>\n",
       "    </tr>\n",
       "    <tr>\n",
       "      <th>21</th>\n",
       "      <td>None</td>\n",
       "      <td>None</td>\n",
       "      <td>None</td>\n",
       "      <td>official, employee, party or candidate, or (b)...</td>\n",
       "      <td>None</td>\n",
       "      <td>None</td>\n",
       "      <td>None</td>\n",
       "    </tr>\n",
       "    <tr>\n",
       "      <th>22</th>\n",
       "      <td>None</td>\n",
       "      <td>None</td>\n",
       "      <td>None</td>\n",
       "      <td>do any act in violation of his or her lawful d...</td>\n",
       "      <td>None</td>\n",
       "      <td>None</td>\n",
       "      <td>None</td>\n",
       "    </tr>\n",
       "    <tr>\n",
       "      <th>23</th>\n",
       "      <td>None</td>\n",
       "      <td>None</td>\n",
       "      <td>None</td>\n",
       "      <td>or his influence with a foreign government or ...</td>\n",
       "      <td>None</td>\n",
       "      <td>None</td>\n",
       "      <td>None</td>\n",
       "    </tr>\n",
       "    <tr>\n",
       "      <th>24</th>\n",
       "      <td>None</td>\n",
       "      <td>None</td>\n",
       "      <td>None</td>\n",
       "      <td>such government or instrumentality, or (d) sec...</td>\n",
       "      <td>None</td>\n",
       "      <td>None</td>\n",
       "      <td>None</td>\n",
       "    </tr>\n",
       "    <tr>\n",
       "      <th>25</th>\n",
       "      <td>None</td>\n",
       "      <td>None</td>\n",
       "      <td>None</td>\n",
       "      <td>InBev; or</td>\n",
       "      <td>None</td>\n",
       "      <td>None</td>\n",
       "      <td>None</td>\n",
       "    </tr>\n",
       "  </tbody>\n",
       "</table>\n",
       "</div>"
      ],
      "text/plain": [
       "                                                 Col0  \\\n",
       "0                                                None   \n",
       "1                                                None   \n",
       "2                                                None   \n",
       "3   25.5 AB InBev is committed to observing applic...   \n",
       "4                                                       \n",
       "5                                                None   \n",
       "6                                                None   \n",
       "7                                                None   \n",
       "8                                                None   \n",
       "9   25.6 The Service Provider accordingly represen...   \n",
       "10  for goods or services is submitted, that:\\n(a)...   \n",
       "11                                               None   \n",
       "12                                               None   \n",
       "13                                               None   \n",
       "14                                               None   \n",
       "15                                               None   \n",
       "16                                               None   \n",
       "17                                               None   \n",
       "18                                               None   \n",
       "19                                               None   \n",
       "20                                               None   \n",
       "21                                               None   \n",
       "22                                               None   \n",
       "23                                               None   \n",
       "24                                               None   \n",
       "25                                               None   \n",
       "\n",
       "   of goods or services to AB InBev or the relevant AB InBev Affiliates under this Agreement (\"sub-contractors\") are provided  \\\n",
       "0   with a copy of AB InBev's Anti-Bribery Policy ...                                                                           \n",
       "1   providing goods or services pursuant to or in ...                                                                           \n",
       "2   its Associated Parties and sub-contractors wil...                                                                           \n",
       "3                                                None                                                                           \n",
       "4   operate, including the United States Foreign C...                                                                           \n",
       "5   dealing with bribery, corrupt practices, or mo...                                                                           \n",
       "6   Providers, and its Associated Parties, to comp...                                                                           \n",
       "7   of AB InBev or in connection with an agreement...                                                                           \n",
       "8   importance to AB InBev of compliance with thes...                                                                           \n",
       "9                                                None                                                                           \n",
       "10          for goods or services is submitted, that:                                                                           \n",
       "11  (a) it, and any of its Associated Parties, sha...                                                                           \n",
       "12                                               None                                                                           \n",
       "13                                               None                                                                           \n",
       "14  (b) neither it nor any of its Associated Parti...                                                                           \n",
       "15                                               None                                                                           \n",
       "16                                               None                                                                           \n",
       "17                                               None                                                                           \n",
       "18                                               None                                                                           \n",
       "19                                               None                                                                           \n",
       "20                                               None                                                                           \n",
       "21                                               None                                                                           \n",
       "22                                               None                                                                           \n",
       "23                                               None                                                                           \n",
       "24                                               None                                                                           \n",
       "25                                               None                                                                           \n",
       "\n",
       "                                                 Col2  \\\n",
       "0                                                None   \n",
       "1                                                None   \n",
       "2                                                None   \n",
       "3                                                None   \n",
       "4                                                None   \n",
       "5                                                None   \n",
       "6                                                None   \n",
       "7                                                None   \n",
       "8                                                None   \n",
       "9                                                None   \n",
       "10                                               None   \n",
       "11                                               None   \n",
       "12  Corruption Laws, including the laws of the cou...   \n",
       "13        to be performed pursuant to this Agreement;   \n",
       "14                                               None   \n",
       "15  of any money, or offer, give, promise to give,...   \n",
       "16                                     else of value:   \n",
       "17  (i) to any official or employee of any governm...   \n",
       "18                                               None   \n",
       "19                                               None   \n",
       "20                                               None   \n",
       "21                                               None   \n",
       "22                                               None   \n",
       "23                                               None   \n",
       "24                                               None   \n",
       "25                                               None   \n",
       "\n",
       "                                                 Col3  Col4  Col5  Col6  \n",
       "0                                                None  None  None  None  \n",
       "1                                                None  None  None  None  \n",
       "2                                                None  None  None        \n",
       "3                                                None  None  None  None  \n",
       "4                                                None  None  None  None  \n",
       "5                                                None  None  None  None  \n",
       "6                                                None  None  None  None  \n",
       "7                                                None  None  None  None  \n",
       "8                                                None  None  None  None  \n",
       "9                                                None  None  None  None  \n",
       "10                                               None        None  None  \n",
       "11                                               None  None  None  None  \n",
       "12                                               None  None  None  None  \n",
       "13                                               None  None        None  \n",
       "14                                               None  None  None  None  \n",
       "15                                               None  None  None  None  \n",
       "16                                               None  None  None  None  \n",
       "17                                               None  None  None  None  \n",
       "18  any candidate for political office, any offici...  None  None  None  \n",
       "19  acting in an official capacity for or on behal...  None  None  None  \n",
       "20  (“Public Official”), in each case for the purp...  None  None  None  \n",
       "21  official, employee, party or candidate, or (b)...  None  None  None  \n",
       "22  do any act in violation of his or her lawful d...  None  None  None  \n",
       "23  or his influence with a foreign government or ...  None  None  None  \n",
       "24  such government or instrumentality, or (d) sec...  None  None  None  \n",
       "25                                          InBev; or  None  None  None  "
      ]
     },
     "execution_count": 23,
     "metadata": {},
     "output_type": "execute_result"
    }
   ],
   "source": [
    "tb.to_pandas()"
   ]
  },
  {
   "cell_type": "code",
   "execution_count": 24,
   "metadata": {},
   "outputs": [
    {
     "data": {
      "text/plain": [
       "[211, 212, 213]"
      ]
     },
     "execution_count": 24,
     "metadata": {},
     "output_type": "execute_result"
    }
   ],
   "source": [
    "page.get_contents()"
   ]
  },
  {
   "cell_type": "code",
   "execution_count": 25,
   "metadata": {},
   "outputs": [
    {
     "name": "stdout",
     "output_type": "stream",
     "text": [
      " \n",
      " \n",
      " \n",
      " \n",
      "of goods or services to AB InBev or the relevant AB InBev Affiliates under this Agreement (\"sub-contractors\") are provided \n",
      "with a copy of AB InBev's Anti-Bribery Policy for Suppliers (\"Code\") and AB InBev’s Responsible Sourcing Policy. When \n",
      "providing goods or services pursuant to or in connection with this Agreement, the Service Provider will, and will ensure that \n",
      "its Associated Parties and sub-contractors will, comply with the principles set out in the Code. \n",
      "25.5 AB InBev is committed to observing applicable anti-corruption laws of the countries in which AB InBev and its affiliates \n",
      "operate, including the United States Foreign Corrupt Practices Act (“FCPA”), UK Bribery Act, and other applicable laws \n",
      "dealing with bribery, corrupt practices, or money-laundering (“Anti-Corruption Laws”). AB InBev requires its Service \n",
      "Providers, and its Associated Parties, to comply with AB InBev’s ethical standards when dealing with third parties on behalf \n",
      "of AB InBev or in connection with an agreement with AB InBev. Service Provider understands and acknowledges the \n",
      "importance to AB InBev of compliance with these obligations and agrees to abide by the terms and spirit of this provision. \n",
      "25.6 The Service Provider accordingly represents and warrants to AB InBev, as of the date hereof and the date that any invoice \n",
      "for goods or services is submitted, that: \n",
      "(a) it, and any of its Associated Parties, shall be bound by, and is and will remain in compliance with all applicable Anti-\n",
      "Corruption Laws, including the laws of the country in which goods are produced and/or delivered and/or services are \n",
      "to be performed pursuant to this Agreement; \n",
      "(b) neither it nor any of its Associated Parties will, directly or indirectly, offer, pay, promise to pay, or authorize the payment \n",
      "of any money, or offer, give, promise to give, or authorize the giving of any financial or other advantage or anything \n",
      "else of value: \n",
      "(i) to any official or employee of any government, or any department, agency, any political party or official thereof, \n",
      "any candidate for political office, any official or employee of any public international organization, or any person \n",
      "acting in an official capacity for or on behalf of any such government, department, agency, party, or organization \n",
      "(“Public Official”), in each case for the purpose of (a) influencing or rewarding any act or decision of such \n",
      "official, employee, party or candidate, or (b) inducing such official, employee, party or candidate to do or omit to \n",
      "do any act in violation of his or her lawful duty, (c) inducing such official, employee, party or candidate to use its \n",
      "or his influence with a foreign government or instrumentality thereof to affect or influence any act or decision of \n",
      "such government or instrumentality, or (d) securing any improper advantage for the Service Provider or AB \n",
      "InBev; or \n",
      "(ii)  to any officer, employee, agent, or representative of another company or organization, with the intent to influence \n",
      "the recipient’s action with respect to his or her company’s business, or to gain a commercial benefit to the \n",
      "detriment of the recipient’s company or organization, or to induce the recipient to violate a duty of loyalty to his \n",
      "employer; or \n",
      "(iii)  \n",
      "which a reasonable person would otherwise consider to be unethical, illegal or improper (collectively, with the \n",
      "acts described in the previous subsections, a \"Corrupt Act\"). \n",
      "(c) No payment, promise to pay, authorization, offer or gift of the sort described in this Standard Term 25.6 has been made \n",
      "in connection with any goods or services delivered by Service Provider related in any way to this Agreement. \n",
      "(d) Except as disclosed to AB InBev, neither the Service Provider nor any of its Associated Parties has in the ten years \n",
      "prior to the date of this Agreement and at any time after: \n",
      "(i) been found by a court or other proceeding in any jurisdiction to have engaged in any Corrupt Act (or similar \n",
      "conduct); or  \n",
      "(ii)  admitted to having engaged in any Corrupt Act (or similar conduct). \n",
      "(e) Service Provider will immediately notify AB InBev of the occurrence of any fact or event that could render any \n",
      "representation, warranty, covenant or undertaking in this Standard Term 25.6 incorrect or misleading; \n",
      "(f) Service Provider will, with respect to Books and Records: \n",
      "(i)  properly, accurately, and completely record in its Books and Records all transactions made in connection with the \n",
      "supply of goods and services under this Agreement, including, but not limited to, maintaining receipts or other \n",
      "supporting documentation that adequately indicate the amount and purpose of and any and all expenses;  \n",
      "(ii)  specifically bind any Associated Parties to comply with these provisions related to Books and Records. \n",
      "For the purpose of this Standard Term 25.6, \"Books and Records\" shall be deemed to include, without limitation, \n",
      "corporate records, bank statements, books of account, invoices, vouchers, supporting documentation and other \n",
      "records and documentation, whether in paper or other form. \n",
      "(g) Service Provider will require any Associated Persons to agree to and abide by the representations and warranties in \n",
      "this Standard Term 25.6. \n",
      "(h) Service Provider will cooperate fully with AB InBev in connection with the investigation of any allegation, event, fact or \n",
      "occurrence relating to any representation, warranty, or covenant in this Standard Term 25.6. If requested by AB InBev, \n",
      "Service Provider shall appoint an executive with sufficient seniority and authority to respond to requests, and promptly \n",
      "furnish such records and information, and provide access to such of Associated Parties, as may be reasonably \n",
      "requested by in connection with any such investigation. \n",
      "25.7 Service Provider further represents and warrants to AB InBev, as of the date hereof and the date that any invoice for goods \n",
      "or services is submitted, that: \n",
      "(a) Neither Service Provider nor any of its Associated Parties is a person:  \n",
      "(i)  (a) included on the List of Specially Designated Nationals and Blocked Persons or the Foreign Sanctions Evaders \n",
      "List maintained by the U.S. Treasury Department’s OFAC, or otherwise targeted by sanctions administered by \n",
      "the United States, or (b) targeted by sanctions administered or enforced by the United Nations Security Council, \n",
      "the European Union, Her Majesty’s Treasury, any EU member state, or other applicable sanctions authority (a \n",
      "and b collectively, “Sanctions”); \n",
      "(ii)  that is, or is part of, a government of a country or territory that is, or whose government currently is, the target of \n",
      "countrywide sanctions imposed by a Sanctions authority (as of the date of this agreement, currently, the Crimea \n",
      "Region, Cuba, Iran, North Korea, Sudan, and Syria) (collectively “Sanctioned Territories”); \n",
      "(iii)  \n",
      "directly or indirectly owned or controlled by, or acting on behalf of, any person who is any of the foregoing; \n",
      "DocuSign Envelope ID: 3BDE136F-BA28-419D-A682-AAAD1BA87428\n",
      "\n"
     ]
    }
   ],
   "source": [
    "print(page.get_text())"
   ]
  },
  {
   "cell_type": "code",
   "execution_count": 61,
   "metadata": {},
   "outputs": [],
   "source": [
    "import pdfplumber"
   ]
  },
  {
   "cell_type": "code",
   "execution_count": 97,
   "metadata": {},
   "outputs": [],
   "source": [
    "pdf = pdfplumber.open(\"data/1. MSA Gateware (Enteron) 1.pdf\")"
   ]
  },
  {
   "cell_type": "code",
   "execution_count": 98,
   "metadata": {},
   "outputs": [
    {
     "data": {
      "text/plain": [
       "['__annotations__',\n",
       " '__class__',\n",
       " '__delattr__',\n",
       " '__dict__',\n",
       " '__dir__',\n",
       " '__doc__',\n",
       " '__enter__',\n",
       " '__eq__',\n",
       " '__exit__',\n",
       " '__format__',\n",
       " '__ge__',\n",
       " '__getattribute__',\n",
       " '__gt__',\n",
       " '__hash__',\n",
       " '__init__',\n",
       " '__init_subclass__',\n",
       " '__le__',\n",
       " '__lt__',\n",
       " '__module__',\n",
       " '__ne__',\n",
       " '__new__',\n",
       " '__reduce__',\n",
       " '__reduce_ex__',\n",
       " '__repr__',\n",
       " '__setattr__',\n",
       " '__sizeof__',\n",
       " '__str__',\n",
       " '__subclasshook__',\n",
       " '__weakref__',\n",
       " 'annots',\n",
       " 'cached_properties',\n",
       " 'chars',\n",
       " 'close',\n",
       " 'curve_edges',\n",
       " 'curves',\n",
       " 'doc',\n",
       " 'edges',\n",
       " 'flush_cache',\n",
       " 'horizontal_edges',\n",
       " 'hyperlinks',\n",
       " 'images',\n",
       " 'laparams',\n",
       " 'lines',\n",
       " 'metadata',\n",
       " 'objects',\n",
       " 'open',\n",
       " 'pages',\n",
       " 'pages_to_parse',\n",
       " 'password',\n",
       " 'path',\n",
       " 'rect_edges',\n",
       " 'rects',\n",
       " 'rsrcmgr',\n",
       " 'stream',\n",
       " 'stream_is_external',\n",
       " 'structure_tree',\n",
       " 'textboxhorizontals',\n",
       " 'textboxverticals',\n",
       " 'textlinehorizontals',\n",
       " 'textlineverticals',\n",
       " 'to_csv',\n",
       " 'to_dict',\n",
       " 'to_json',\n",
       " 'unicode_norm',\n",
       " 'vertical_edges']"
      ]
     },
     "execution_count": 98,
     "metadata": {},
     "output_type": "execute_result"
    }
   ],
   "source": [
    "dir(pdf)"
   ]
  },
  {
   "cell_type": "code",
   "execution_count": 99,
   "metadata": {},
   "outputs": [
    {
     "data": {
      "text/plain": [
       "113417"
      ]
     },
     "execution_count": 99,
     "metadata": {},
     "output_type": "execute_result"
    }
   ],
   "source": [
    "len(pdf.chars)"
   ]
  },
  {
   "cell_type": "code",
   "execution_count": 100,
   "metadata": {},
   "outputs": [
    {
     "data": {
      "text/plain": [
       "47"
      ]
     },
     "execution_count": 100,
     "metadata": {},
     "output_type": "execute_result"
    }
   ],
   "source": [
    "len(pdf.images)"
   ]
  },
  {
   "cell_type": "code",
   "execution_count": 101,
   "metadata": {},
   "outputs": [
    {
     "data": {
      "text/plain": [
       "4101"
      ]
     },
     "execution_count": 101,
     "metadata": {},
     "output_type": "execute_result"
    }
   ],
   "source": [
    "len(pdf.rects)"
   ]
  },
  {
   "cell_type": "code",
   "execution_count": 102,
   "metadata": {},
   "outputs": [
    {
     "data": {
      "text/plain": [
       "32"
      ]
     },
     "execution_count": 102,
     "metadata": {},
     "output_type": "execute_result"
    }
   ],
   "source": [
    "len(pdf.pages)"
   ]
  },
  {
   "cell_type": "code",
   "execution_count": 103,
   "metadata": {},
   "outputs": [],
   "source": [
    "p1 = pdf.pages[17]"
   ]
  },
  {
   "cell_type": "code",
   "execution_count": 104,
   "metadata": {},
   "outputs": [
    {
     "data": {
      "image/png": "[encoded data removed]",
      "text/plain": [
       "<pdfplumber.display.PageImage at 0x7ff37248fbe0>"
      ]
     },
     "execution_count": 104,
     "metadata": {},
     "output_type": "execute_result"
    }
   ],
   "source": [
    "im = p1.to_image()\n",
    "im"
   ]
  },
  {
   "cell_type": "code",
   "execution_count": 35,
   "metadata": {},
   "outputs": [],
   "source": [
    "# dir(p1)"
   ]
  },
  {
   "cell_type": "code",
   "execution_count": 65,
   "metadata": {},
   "outputs": [
    {
     "data": {
      "image/png": "[encoded data removed]",
      "text/plain": [
       "<pdfplumber.display.PageImage at 0x7ff380c1faf0>"
      ]
     },
     "execution_count": 65,
     "metadata": {},
     "output_type": "execute_result"
    }
   ],
   "source": [
    "im.reset().debug_tablefinder()"
   ]
  },
  {
   "cell_type": "code",
   "execution_count": 37,
   "metadata": {},
   "outputs": [],
   "source": [
    "# p1.debug_tablefinder()"
   ]
  },
  {
   "cell_type": "code",
   "execution_count": 66,
   "metadata": {},
   "outputs": [],
   "source": [
    "table_settings = {\n",
    "    \"vertical_strategy\": \"text\",\n",
    "    \"horizontal_strategy\": \"lines\",\n",
    "    \"snap_y_tolerance\": 15,\n",
    "    \"snap_x_tolerance\": 10,\n",
    "}"
   ]
  },
  {
   "cell_type": "code",
   "execution_count": 67,
   "metadata": {},
   "outputs": [
    {
     "data": {
      "image/png": "[encoded data removed]",
      "text/plain": [
       "<pdfplumber.display.PageImage at 0x7ff380c1faf0>"
      ]
     },
     "execution_count": 67,
     "metadata": {},
     "output_type": "execute_result"
    }
   ],
   "source": [
    "im.reset().debug_tablefinder(table_settings)"
   ]
  },
  {
   "cell_type": "code",
   "execution_count": 68,
   "metadata": {},
   "outputs": [
    {
     "name": "stdout",
     "output_type": "stream",
     "text": [
      "[['lope ID:\\n(b)\\n(c)\\n(d)\\n(e)\\n(f)\\n(g)\\n25.8 AB', '3BDE136F-BA28-419D-A682-AAAD1BA87428\\n(iv) located, organized, or resident in a Sanctio\\n(v) otherwise targeted under Sanctions; or\\n(vi) the subject of any Sanctions investigation;\\nNeither Service Provider or any of its Associa\\nwith provision of goods or services under th\\nproceeds to any subsidiary, other affiliate of th\\n(i) to fund or facilitate any activities of or busin\\nany activities or business in any Sanctione\\n(ii) in any other manner that would result in a\\nService Provider will otherwise comply with th\\nPersons to agree to and abide by the represe\\nService Provider will immediately notify AB\\nrepresentation, warranty, covenant or underta\\nService Provider will cooperate fully with AB In\\noccurrence relating to any representation, war\\nService Provider shall appoint an executive wi\\nfurnish such records and information, and prov\\nin connection with any such investigation;\\nThe representations made in this Standard Te\\nParties, or for the benefit of any party to this\\nin any violation of, conflict with or liability und\\nForeign Trade And Payments Rules (Außenw\\nNo business will be conducted between the\\nAffiliate in any of the Sanctioned Territories an\\nto be entered into in respect of any Sanctione\\nthe AB InBev Affiliate shall have no obligation\\nService Provider (or any Local Service Provid\\nInBev is committed to observing applicable laws', None, None, None, None, None], ['th\\nre\\nth\\n(a)\\n(b)\\n(c)\\n25.9 Pe\\nCe\\nof\\n25.10 No\\nter\\nof\\n25\\ncla\\nthi\\n25.11 AB\\nau\\ninv\\nre\\nSa\\nev\\nPr\\nap\\nsh\\nbe\\nwi\\nLa\\n26. NO\\n26.1 All\\n(a)', 'at may result in anticompetitive practices (“A\\npresents, and warrants to AB InBev, as of the dat\\nat:\\nService Provider and its Associated Parties o\\nService Provider and its Associated Parties w\\nInBev that may be construed as anticompetitiv\\nService Provider will immediately notify AB\\nrepresentation, warranty, covenant or underta\\nriodically as requested by AB InBev, Service Pro\\nrtificate of Compliance with Ethical Practices tha\\nStandard Terms 25.5 to 25.7 (inclusive).\\ntwithstanding anything to the contrary in this Ag\\nminate this Agreement in the event that it receiv\\na breach by Service Provider or any Associated\\n. In the event of such termination, Service Provi\\nim, or damage, including legal fees, resulting fr\\ns Agreement.\\nInBev reserves the right to hold the Service Pro\\ndit process and any on-going compliance an\\nestigating and closing of any non-compliance is\\nsults from the Compliance Process with any mem\\naS General Term 25, companies in which any\\nent that AB InBev becomes aware of any breach\\novider’s supply chain, AB InBev will demand t\\npropriate by AB InBev which may include audits\\nall conduct re-audits to ensure implementation o\\nar the cost of any ethically-related on-site audit a\\nth AB InBev Human Rights, Labour, Health and\\nundering Standards.\\nTICES\\nnotices under this Agreement must be:\\nin writing and in the English language and ser', 'nti-Trus\\ne hereof a\\nperate in\\nill not en\\ne;\\nInBev of\\nking in th\\nvider sha\\nt confirm\\nreement,\\nes inform\\nParty of\\nder shall\\nom the br\\nvider res\\nd risk a\\nsues (“C\\nber of th\\nmember\\nof this Sa\\nhat the S\\nand corr\\nf correcti\\nnd/or, as\\nSafety,\\nved using', 't and Competit\\nnd the date that a\\ncompliance with r\\ngage in any unla\\nthe occurrence\\nis Standard Term\\nll cause one of it\\ns Service Provide\\nAB InBev may, i\\nation which it det\\nany representatio\\ndefend and inde\\neach of this Stan\\nponsible for the r\\nssessments reg\\nompliance Proc\\ne AB InBev Grou\\nof the AB InBev\\naS General Term\\nervice Provider i\\nective measures\\nve measures. Th\\nthe case may be\\nEnvironmental, L\\nthe contact detai', 'ion\\nny i\\nelev\\nwful\\nof a\\n25.\\ns au\\nr’s\\nn ad\\nerm\\nn or\\nmnif\\ndar\\neas\\nardi\\ness\\np, w\\nGro\\n25\\nmpl\\nwith\\ne Se\\n, an\\nand\\nls s', 'Laws”). Service Provi\\nnvoice for goods or servic\\nant Anti-Trust and Comp\\ndiscussions or correspo\\nny fact or event that co\\n8 incorrect or misleading\\nthorized officers to execu\\ncontinued compliance wit\\ndition to its other remedi\\nines in its sole discretion\\nwarranty set forth in this\\ny AB InBev for any third-\\nd Term 25 and AB InBev’\\nonable costs of the AB In\\nng the Service Provide\\n”). AB InBev may share t\\nhich shall include for the\\nup has any shareholding\\nby the Service Provider\\nement corrective measu\\nin Supplier’s upsteam su\\nrvice Provider may also\\ny re-audit in the event of\\nRights, Economic Sanc\\net out in this Agreement', 'der accordingly\\nes is submitted,\\netition Laws;\\nndence with AB\\nuld render any\\n.\\nte and deliver a\\nh the provisions\\nes, immediately\\nto be evidence\\nStandard Term\\nparty loss, cost,\\ns termination of\\nBev compliance\\nr, including the\\nhe findings and\\npurposes of this\\ninterest. In the\\nor within Service\\nres, as deemed\\npply chain, and\\nbe requested to\\nnon-compliance\\ntions, or Money\\nand/or the SoW'], ['(b)\\n27. GE\\n27.1 Th\\nint', '(or using other contact details notified by the re\\ndelivered by hand (including courier), or sent b\\ncase may be) or emailed to the Service Provid\\nNERAL TERMS\\nis Agreement, or any SoW, is or will be drafted\\no any other language shall be for the convenienc', 'levant pe\\ny prepaid\\ner, or AB\\nin the En\\ne of the', 'rson pursuant to\\nrecorded mail, or\\nInBev as set out i\\nglish language. A\\nparties only and s', 'this\\nby\\nn th\\nny\\nhall', 'Standard Term 26); and\\nfax to the fax number, or\\nis Agreement.\\ntranslations of this Agree\\nin no way affect their inte', 'address (as the\\nment or a SoW\\nrpretation.']]\n"
     ]
    }
   ],
   "source": [
    "table = p1.extract_table(table_settings)\n",
    "print(table)"
   ]
  },
  {
   "cell_type": "code",
   "execution_count": 105,
   "metadata": {},
   "outputs": [
    {
     "name": "stdout",
     "output_type": "stream",
     "text": [
      "DocuSign Envelope ID: 3BDE136F-BA28-419D-A682-AAAD1BA87428\n",
      "(iv) located, organized, or resident in a Sanctioned Territory;\n",
      "(v) otherwise targeted under Sanctions; or\n",
      "(vi) the subject of any Sanctions investigation;\n",
      "(b) Neither Service Provider or any of its Associated Parties will directly or indirectly, use proceeds arising in connection\n",
      "with provision of goods or services under this Agreement, or lend, contribute, or otherwise make available such\n",
      "proceeds to any subsidiary, other affiliate of the Service Provider, joint venture partner, or other person:\n",
      "(i) to fund or facilitate any activities of or business or transaction with any person or entity targeted by Sanctions or\n",
      "any activities or business in any Sanctioned country, or\n",
      "(ii) in any other manner that would result in a violation of any applicable Sanctions;\n",
      "(c) Service Provider will otherwise comply with the requirements of applicable Sanctions and will require any Associated\n",
      "Persons to agree to and abide by the representations and warranties in this Standard Term 25.7;\n",
      "(d) Service Provider will immediately notify AB InBev of the occurrence of any fact or event that could render any\n",
      "representation, warranty, covenant or undertaking in this Standard Term 25.7 incorrect or misleading;\n",
      "(e) Service Provider will cooperate fully with AB InBev in connection with the investigation of any allegation, event, fact or\n",
      "occurrence relating to any representation, warranty, or covenant in this Standard Term 25.7. If requested by AB InBev,\n",
      "Service Provider shall appoint an executive with sufficient seniority and authority to respond to requests, and promptly\n",
      "furnish such records and information, and provide access to such Associated Parties, as may be reasonably requested\n",
      "in connection with any such investigation;\n",
      "(f) The representations made in this Standard Term 25.7 shall only apply to the Service Provider or any of its Associated\n",
      "Parties, or for the benefit of any party to this Agreement, to the extent that this Standard Term 25.7 would not result\n",
      "in any violation of, conflict with or liability under EU Regulation (EC) 2271/96 or a violation or conflict with Section 7\n",
      "Foreign Trade And Payments Rules (Außenwirtschaftsverordnung) or a similar anti-boycott statute; and\n",
      "(g) No business will be conducted between the Service Provider (or any Local Service Providers) and any AB InBev\n",
      "Affiliate in any of the Sanctioned Territories and to the extent that, notwithstanding the foregoing, any SoW is purported\n",
      "to be entered into in respect of any Sanctioned Territory then it will be immediately declared to be null and void and\n",
      "the AB InBev Affiliate shall have no obligations to continue with the SoW or receive goods or services or pay to the\n",
      "Service Provider (or any Local Service Provider) any monies under or in connection with such SoW.\n",
      "25.8 AB InBev is committed to observing applicable laws, regulation or decrees, designed to prohibit, restrict or regulate actions\n",
      "that may result in anticompetitive practices (“Anti-Trust and Competition Laws”). Service Provider accordingly\n",
      "represents, and warrants to AB InBev, as of the date hereof and the date that any invoice for goods or services is submitted,\n",
      "that:\n",
      "(a) Service Provider and its Associated Parties operate in compliance with relevant Anti-Trust and Competition Laws;\n",
      "(b) Service Provider and its Associated Parties will not engage in any unlawful discussions or correspondence with AB\n",
      "InBev that may be construed as anticompetitive;\n",
      "(c) Service Provider will immediately notify AB InBev of the occurrence of any fact or event that could render any\n",
      "representation, warranty, covenant or undertaking in this Standard Term 25.8 incorrect or misleading.\n",
      "25.9 Periodically as requested by AB InBev, Service Provider shall cause one of its authorized officers to execute and deliver a\n",
      "Certificate of Compliance with Ethical Practices that confirms Service Provider’s continued compliance with the provisions\n",
      "of Standard Terms 25.5 to 25.7 (inclusive).\n",
      "25.10 Notwithstanding anything to the contrary in this Agreement, AB InBev may, in addition to its other remedies, immediately\n",
      "terminate this Agreement in the event that it receives information which it determines in its sole discretion to be evidence\n",
      "of a breach by Service Provider or any Associated Party of any representation or warranty set forth in this Standard Term\n",
      "25. In the event of such termination, Service Provider shall defend and indemnify AB InBev for any third-party loss, cost,\n",
      "claim, or damage, including legal fees, resulting from the breach of this Standard Term 25 and AB InBev’s termination of\n",
      "this Agreement.\n",
      "25.11 AB InBev reserves the right to hold the Service Provider responsible for the reasonable costs of the AB InBev compliance\n",
      "audit process and any on-going compliance and risk assessments regarding the Service Provider, including the\n",
      "investigating and closing of any non-compliance issues (“Compliance Process”). AB InBev may share the findings and\n",
      "results from the Compliance Process with any member of the AB InBev Group, which shall include for the purposes of this\n",
      "SaaS General Term 25, companies in which any member of the AB InBev Group has any shareholding interest. In the\n",
      "event that AB InBev becomes aware of any breach of this SaaS General Term 25 by the Service Provider or within Service\n",
      "Provider’s supply chain, AB InBev will demand that the Service Provider implement corrective measures, as deemed\n",
      "appropriate by AB InBev which may include audits and corrective measures within Supplier’s upsteam supply chain, and\n",
      "shall conduct re-audits to ensure implementation of corrective measures. The Service Provider may also be requested to\n",
      "bear the cost of any ethically-related on-site audit and/or, as the case may be, any re-audit in the event of non-compliance\n",
      "with AB InBev Human Rights, Labour, Health and Safety, Environmental, Land Rights, Economic Sanctions, or Money\n",
      "Laundering Standards.\n",
      "26. NOTICES\n",
      "26.1 All notices under this Agreement must be:\n",
      "(a) in writing and in the English language and served using the contact details set out in this Agreement and/or the SoW\n",
      "(or using other contact details notified by the relevant person pursuant to this Standard Term 26); and\n",
      "(b) delivered by hand (including courier), or sent by prepaid recorded mail, or by fax to the fax number, or address (as the\n",
      "case may be) or emailed to the Service Provider, or AB InBev as set out in this Agreement.\n",
      "27. GENERAL TERMS\n",
      "27.1 This Agreement, or any SoW, is or will be drafted in the English language. Any translations of this Agreement or a SoW\n",
      "into any other language shall be for the convenience of the parties only and shall in no way affect their interpretation.\n",
      "27.2 If any provision or part of this Agreement or a SoW is found by any court or other competent authority to be invalid or\n",
      "unenforceable then that provision will, to the extent required, be given no effect and will be treated as though it were not\n",
      "included and the validity or enforceability of the remaining provisions of this Agreement or SoW will not be affected. Each\n"
     ]
    }
   ],
   "source": [
    "print(p1.extract_text())"
   ]
  },
  {
   "cell_type": "markdown",
   "metadata": {},
   "source": [
    "##### supplier"
   ]
  },
  {
   "cell_type": "code",
   "execution_count": 73,
   "metadata": {},
   "outputs": [],
   "source": [
    "pdf = pdfplumber.open(\"data/20240729_Crown_Holdings_Inc-_10_Q_FY24 Q2.pdf\")"
   ]
  },
  {
   "cell_type": "code",
   "execution_count": 87,
   "metadata": {},
   "outputs": [],
   "source": [
    "p1 = pdf.pages[18]"
   ]
  },
  {
   "cell_type": "code",
   "execution_count": 88,
   "metadata": {},
   "outputs": [
    {
     "data": {
      "image/png": "[encoded data removed]",
      "text/plain": [
       "<pdfplumber.display.PageImage at 0x7ff37e69b7f0>"
      ]
     },
     "execution_count": 88,
     "metadata": {},
     "output_type": "execute_result"
    }
   ],
   "source": [
    "im = p1.to_image()\n",
    "im"
   ]
  },
  {
   "cell_type": "code",
   "execution_count": 89,
   "metadata": {},
   "outputs": [
    {
     "data": {
      "image/png": "[encoded data removed]",
      "text/plain": [
       "<pdfplumber.display.PageImage at 0x7ff37e69b7f0>"
      ]
     },
     "execution_count": 89,
     "metadata": {},
     "output_type": "execute_result"
    }
   ],
   "source": [
    "im.reset().debug_tablefinder()"
   ]
  },
  {
   "cell_type": "code",
   "execution_count": 91,
   "metadata": {},
   "outputs": [],
   "source": [
    "# im.reset().debug_tablefinder(table_settings)"
   ]
  },
  {
   "cell_type": "code",
   "execution_count": 93,
   "metadata": {},
   "outputs": [
    {
     "name": "stdout",
     "output_type": "stream",
     "text": [
      "[[None, 'of $8 for remediation activities at various worldwide'], ['locations that are owned by the Company and for which the Company is not a member of a PRP', None], ['group. Although the Company believes its accruals are adequate to cover its portion of', None]]\n"
     ]
    }
   ],
   "source": [
    "table = p1.extract_table()\n",
    "# print(table)"
   ]
  },
  {
   "cell_type": "code",
   "execution_count": 94,
   "metadata": {},
   "outputs": [
    {
     "data": {
      "text/plain": [
       "[[None, 'of $8 for remediation activities at various worldwide'],\n",
       " ['locations that are owned by the Company and for which the Company is not a member of a PRP',\n",
       "  None],\n",
       " ['group. Although the Company believes its accruals are adequate to cover its portion of',\n",
       "  None]]"
      ]
     },
     "execution_count": 94,
     "metadata": {},
     "output_type": "execute_result"
    }
   ],
   "source": [
    "table"
   ]
  },
  {
   "cell_type": "code",
   "execution_count": 96,
   "metadata": {},
   "outputs": [
    {
     "name": "stdout",
     "output_type": "stream",
     "text": [
      "Crown Holdings, Inc.\n",
      "J. Commitments and Contingent Liabilities\n",
      "The Company, along with others in most cases, has been identified by the EPA or a comparable state\n",
      "environmental agency as a Potentially Responsible Party (“PRP”) at a number of sites and has recorded\n",
      "aggregate accruals of $12 for its share of estimated future remediation costs at these sites. The Company\n",
      "has been identified as having either directly or indirectly disposed of commercial or industrial waste at the\n",
      "sites subject to the accrual, and where appropriate and supported by available information, generally has\n",
      "agreed to be responsible for a percentage of future remediation costs based on an estimated volume of\n",
      "materials disposed in proportion to the total materials disposed at each site. The Company has not had\n",
      "monetary sanctions imposed nor has the Company been notified of any potential monetary sanctions at any\n",
      "of the sites.\n",
      "The Company has also recorded aggregate accruals of $8 for remediation activities at various worldwide\n",
      "locations that are owned by the Company and for which the Company is not a member of a PRP\n",
      "group. Although the Company believes its accruals are adequate to cover its portion of future remediation\n",
      "costs, there can be no assurance that the ultimate payments will not exceed the amount of the Company’s\n",
      "accruals and will not have a material effect on its results of operations, financial position and cash flow. Any\n",
      "possible loss or range of potential loss that may be incurred in excess of the recorded accruals cannot be\n",
      "estimated.\n",
      "In March 2015, the Bundeskartellamt, or German Federal Cartel Office (“FCO”), conducted unannounced\n",
      "inspections of the premises of several metal packaging manufacturers, including a German subsidiary of the\n",
      "Company. The local court order authorizing the inspection cited FCO suspicions of anti-competitive\n",
      "agreements in the German market for the supply of metal packaging products. The Company conducted an\n",
      "internal investigation into the matter and discovered instances of inappropriate conduct by certain\n",
      "employees of German subsidiaries of the Company. The Company cooperated with the FCO and submitted a\n",
      "leniency application with the FCO which disclosed the findings of its internal investigation to date. In April\n",
      "2018, the FCO discontinued its national investigation and referred the matter to the European Commission\n",
      "(the “Commission”). Following the referral, Commission officials conducted unannounced inspections of the\n",
      "premises of several metal packaging manufacturers, including Company subsidiaries in Germany, France\n",
      "and the U.K. The Company cooperated with the Commission and submitted a leniency application with the\n",
      "Commission with respect to the findings of its internal investigation in Germany. In July 2022, the Company\n",
      "reached a settlement with the Commission relating to the Commission’s investigation, pursuant to which the\n",
      "Company agreed to pay a fine in the amount of $8. Fining decisions based on settlements can be appealed\n",
      "under EU law. The Company is seeking annulment of the Commission’s fining decision on the basis that the\n",
      "referral of the case from the FCO to the Commission was unjustified. There can be no assurance regarding\n",
      "the outcome of such appeal.\n",
      "In March 2017, U.S. Customs and Border Protection (“CBP”) at the Port of Milwaukee issued a penalty\n",
      "notification alleging that certain of the Company’s subsidiaries intentionally misclassified the importation of\n",
      "certain goods into the U.S. during the period 2004 -2009. CBP initially assessed a penalty of $18. The\n",
      "Company has acknowledged to CBP that the goods were misclassified and has paid all related duties, which\n",
      "CBP does not dispute. The Company has asserted that the misclassification was unintentional and disputes\n",
      "the penalty assessment by CBP. CBP has brought suit in the U.S. Court of International Trade seeking\n",
      "enforcement of the initial penalty against the Company. At the present time, based on the information\n",
      "available, the Company does not believe that a loss for the alleged intentional misclassification is probable.\n",
      "However, there can be no assurance that the Company will be successful in contesting the assessed penalty.\n",
      "On October 7, 2021, the French Autorité de la concurrence (the French Competition Authority or “FCA”)\n",
      "issued a statement of objections to 14 trade associations, one public entity and 101 legal entities from 28\n",
      "corporate groups, including the Company, certain of its subsidiaries, other leading metal can manufacturers,\n",
      "certain can fillers and certain retailers in France. The FCA alleged violations of Articles 101 of the Treaty on\n",
      "the Functioning of the European Union and L.420-1 of the French Commercial Code. The statement of\n",
      "objections alleges, among other things, anti-competitive behavior in connection with the removal of\n",
      "bisphenol-A from metal packaging in France. The removal of bisphenol-A was mandated by French legislation\n",
      "that went into effect in 2015. On December 29, 2023, the FCA issued a decision imposing a fine of €4 million\n",
      "on the Company. The Company has appealed the decision of the FCA, however there can be no assurance\n",
      "regarding the outcome of such appeal.\n",
      "In June 2024, the Brazilian Federal Tax Authorities issued an assessment against the Company's Brazilian\n",
      "subsidiary in relation to the use of PIS and COFINS indirect tax credits arising from a favorable judicial\n",
      "decision received by the Company in 2019. The assessment disallowed credits of $42 taken by the Company\n",
      "for the years 2004 through 2015 when the PIS and COFINS indirect taxes were calculated by fixed rates and\n",
      "assessed interest and penalties. The Company does not believe that a loss for this assessment is probable\n",
      "and plans to challenge the assessment at the\n"
     ]
    }
   ],
   "source": [
    "print(p1.extract_text())"
   ]
  },
  {
   "cell_type": "code",
   "execution_count": null,
   "metadata": {},
   "outputs": [],
   "source": []
  }
 ],
 "metadata": {
  "kernelspec": {
   "display_name": "torch_env",
   "language": "python",
   "name": "python3"
  },
  "language_info": {
   "codemirror_mode": {
    "name": "ipython",
    "version": 3
   },
   "file_extension": ".py",
   "mimetype": "text/x-python",
   "name": "python",
   "nbconvert_exporter": "python",
   "pygments_lexer": "ipython3",
   "version": "3.10.14"
  }
 },
 "nbformat": 4,
 "nbformat_minor": 2
}
