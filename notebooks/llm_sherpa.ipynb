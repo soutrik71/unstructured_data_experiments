{
 "cells": [
  {
   "cell_type": "code",
   "execution_count": 10,
   "metadata": {},
   "outputs": [
    {
     "data": {
      "application/javascript": "IPython.notebook.set_autosave_interval(300000)"
     },
     "metadata": {},
     "output_type": "display_data"
    },
    {
     "name": "stdout",
     "output_type": "stream",
     "text": [
      "Autosaving every 300 seconds\n",
      "The autoreload extension is already loaded. To reload it, use:\n",
      "  %reload_ext autoreload\n"
     ]
    }
   ],
   "source": [
    "%autosave 300\n",
    "%load_ext autoreload\n",
    "%autoreload 2\n",
    "%reload_ext autoreload\n",
    "%config Completer.use_jedi = False"
   ]
  },
  {
   "cell_type": "code",
   "execution_count": 11,
   "metadata": {},
   "outputs": [
    {
     "name": "stdout",
     "output_type": "stream",
     "text": [
      "/mnt/batch/tasks/shared/LS_root/mounts/clusters/copilot-model-run/code/Users/Soutrik.Chowdhury/unstructured_data_experiments\n"
     ]
    }
   ],
   "source": [
    "import os\n",
    "\n",
    "os.chdir(\n",
    "    \"/mnt/batch/tasks/shared/LS_root/mounts/clusters/copilot-model-run/code/Users/Soutrik.Chowdhury/unstructured_data_experiments\"\n",
    ")\n",
    "print(os.getcwd())"
   ]
  },
  {
   "cell_type": "code",
   "execution_count": 12,
   "metadata": {},
   "outputs": [],
   "source": [
    "dada_folder = r\"./data\""
   ]
  },
  {
   "cell_type": "code",
   "execution_count": 13,
   "metadata": {},
   "outputs": [],
   "source": [
    "sherpa_api = \"http://localhost:5010/api/parseDocument?renderFormat=all\""
   ]
  },
  {
   "cell_type": "code",
   "execution_count": 14,
   "metadata": {},
   "outputs": [],
   "source": [
    "from langchain_community.document_loaders.llmsherpa import LLMSherpaFileLoader"
   ]
  },
  {
   "cell_type": "code",
   "execution_count": 15,
   "metadata": {},
   "outputs": [],
   "source": [
    "loader = LLMSherpaFileLoader(\n",
    "    file_path=os.path.join(dada_folder, \"TDS_and_TCS-rate-chart-2025.pdf\"),\n",
    "    new_indent_parser=True,\n",
    "    apply_ocr=True,\n",
    "    strategy=\"chunks\",\n",
    "    llmsherpa_api_url=sherpa_api,\n",
    ")\n",
    "docs = loader.load()"
   ]
  },
  {
   "cell_type": "code",
   "execution_count": 16,
   "metadata": {},
   "outputs": [
    {
     "data": {
      "text/plain": [
       "[Document(metadata={'source': './data/TDS_and_TCS-rate-chart-2025.pdf', 'chunk_number': 0, 'chunk_type': 'para'}, page_content='TDS      &      TCS      RATE      CHART > Financial      Year:      2024-25      /      Assessment      Year:      2025-26\\nUpdated      on      18.04.2024'),\n",
       " Document(metadata={'source': './data/TDS_and_TCS-rate-chart-2025.pdf', 'chunk_number': 1, 'chunk_type': 'para'}, page_content='TDS      RATE      CHART      FY:      2024-25      (AY:      2025-26) > Section      Nature      of      Payment      Threshold      Indv      /      HUF      Others\\nExisting      TDS      Rate      (%)'),\n",
       " Document(metadata={'source': './data/TDS_and_TCS-rate-chart-2025.pdf', 'chunk_number': 2, 'chunk_type': 'para'}, page_content='TDS      RATE      CHART      FY:      2024-25      (AY:      2025-26) > Section      Nature      of      Payment      Threshold      Indv      /      HUF      Others > Salaries      Slab      Rate      Slab      Rate\\nPremature      withdrawal      from      EPF      10   \\n \\n- Interest      on      Securities      10      10 Dividends      10      10 Interest      (Banks)      10      10 Interest   \\n \\n-      Senior      Citizen      (Banks)      10   \\n \\n- Interest      (Others)      10      10 Winning      from      Lotteries      30      30 Winnings      from      online      games      30      30 Winning      from      Horse      Race      30      30'),\n",
       " Document(metadata={'source': './data/TDS_and_TCS-rate-chart-2025.pdf', 'chunk_number': 3, 'chunk_type': 'para'}, page_content='TDS      RATE      CHART      FY:      2024-25      (AY:      2025-26) > Section      Nature      of      Payment      Threshold      Indv      /      HUF      Others > Contractor      -      Single      Transaction\\nContractor   \\n \\n-      During      the      FY.'),\n",
       " Document(metadata={'source': './data/TDS_and_TCS-rate-chart-2025.pdf', 'chunk_number': 4, 'chunk_type': 'para'}, page_content='TDS      RATE      CHART      FY:      2024-25      (AY:      2025-26) > Section      Nature      of      Payment      Threshold      Indv      /      HUF      Others > Insurance      Commission      (15G      -      15H      allowed)\\nPayment      received   \\n \\n-      Life      insurance      Policy'),\n",
       " Document(metadata={'source': './data/TDS_and_TCS-rate-chart-2025.pdf', 'chunk_number': 5, 'chunk_type': 'para'}, page_content='TDS      RATE      CHART      FY:      2024-25      (AY:      2025-26) > Section      Nature      of      Payment      Threshold      Indv      /      HUF      Others > Payment      received      -      National      Savings      Scheme      (NSS)\\nRepurchase      Units      by      MFs      c'),\n",
       " Document(metadata={'source': './data/TDS_and_TCS-rate-chart-2025.pdf', 'chunk_number': 6, 'chunk_type': 'para'}, page_content='TDS      RATE      CHART      FY:      2024-25      (AY:      2025-26) > Section      Nature      of      Payment      Threshold      Indv      /      HUF      Others > Rent      for      Land,      Building      &      Furniture      2.40      Lakh\\nTransfer      of      certain      immovable      property      other      than      agriculture      land      50      Lakh Rent      payment      by      individual   \\n \\n/      HUF      not      covered      u/s      1941      50000      P.      M.'),\n",
       " Document(metadata={'source': './data/TDS_and_TCS-rate-chart-2025.pdf', 'chunk_number': 7, 'chunk_type': 'para'}, page_content='TDS      RATE      CHART      FY:      2024-25      (AY:      2025-26) > Section      Nature      of      Payment      Threshold      Indv      /      HUF      Others > Rent      for      Land,      Building      &      Furniture      2.40      Lakh\\nPayment      under      specified      Joint      Development      Agreement   \\n \\n- Fees   \\n \\n-      Technical      Services,      Call      Centre,      Royalty,      Distribution   \\n \\n/       Exhibition      of      Cinematographic      Films,      etc.'),\n",
       " Document(metadata={'source': './data/TDS_and_TCS-rate-chart-2025.pdf', 'chunk_number': 8, 'chunk_type': 'para'}, page_content='TDS      RATE      CHART      FY:      2024-25      (AY:      2025-26) > Section      Nature      of      Payment      Threshold      Indv      /      HUF      Others > Fees      -      All      other      Professional      Services\\nTDS      Returns      Made      Easy  \\n \\n  96,000   \\n \\n+      19+      53      Lacs   \\n \\n+ www.tdsman.com      Satisfied      Users      Years      of      Service      TDS      Returns      Filed  \\n \\n  Section'),\n",
       " Document(metadata={'source': './data/TDS_and_TCS-rate-chart-2025.pdf', 'chunk_number': 9, 'chunk_type': 'para'}, page_content='TDS      RATE      CHART      FY:      2024-25      (AY:      2025-26) > Section      Nature      of      Payment      Threshold      Indv      /      HUF      Others > Nature      of      Payment\\nPayment      of      dividend      by      mutual      Funds Compensation      on      transfer      of      certain      immovable      property      other  \\n \\n  than      agricultural      land Income      by      way      of      interest      from      infrastructure      debt      fund  \\n \\n  (non-resident) 194LBA Certain      income      from      units      of   \\n \\na      business      trust  \\n \\n  (applicable      from      01.10.2014)'),\n",
       " Document(metadata={'source': './data/TDS_and_TCS-rate-chart-2025.pdf', 'chunk_number': 10, 'chunk_type': 'para'}, page_content='TDS      RATE      CHART      FY:      2024-25      (AY:      2025-26) > Section      Nature      of      Payment      Threshold      Indv      /      HUF      Others > Nature      of      Payment\\nIncome      in      respect      of      investment      of      investment      fund 194LBB'),\n",
       " Document(metadata={'source': './data/TDS_and_TCS-rate-chart-2025.pdf', 'chunk_number': 11, 'chunk_type': 'para'}, page_content='TDS      RATE      CHART      FY:      2024-25      (AY:      2025-26) > Section      Nature      of      Payment      Threshold      Indv      /      HUF      Others > Nature      of      Payment\\nIncome      in      respect      of      investment      in      securitization      trust 194LBC'),\n",
       " Document(metadata={'source': './data/TDS_and_TCS-rate-chart-2025.pdf', 'chunk_number': 12, 'chunk_type': 'para'}, page_content='TDS      RATE      CHART      FY:      2024-25      (AY:      2025-26) > Section      Nature      of      Payment      Threshold      Indv      /      HUF      Others > Nature      of      Payment\\nInterest      on      certain      bonds      and      Govt.\\nSecurities      (from      01.06.2013) Payment      made      for      Contracts,      Brokerage      or      Professional      Fees      by  \\n \\n  individual   \\n \\n&      HUF      (other      than      Section      194C,      194H   \\n \\n&      194J)  \\n \\n  Cash      withdrawal      in      excess      of   \\n \\n1      crore      during      the      previous      year  \\n \\n  from1      or      more      account      with   \\n \\na      bank      or      co-operative      society  \\n \\n  (wef      01.09.2019)'),\n",
       " Document(metadata={'source': './data/TDS_and_TCS-rate-chart-2025.pdf', 'chunk_number': 13, 'chunk_type': 'para'}, page_content='TDS      RATE      CHART      FY:      2024-25      (AY:      2025-26) > Section      Nature      of      Payment      Threshold      Indv      /      HUF      Others > Nature      of      Payment\\nTDS      on      e-commerce      participants TDS      in      case      of      Specified      Senior      Citizen      (above      75      years)      having  \\n \\n  Salary   \\n \\n&      Interest      (ITR      not      required)'),\n",
       " Document(metadata={'source': './data/TDS_and_TCS-rate-chart-2025.pdf', 'chunk_number': 14, 'chunk_type': 'para'}, page_content='TDS      RATE      CHART      FY:      2024-25      (AY:      2025-26) > Section      Nature      of      Payment      Threshold      Indv      /      HUF      Others > TDS      on      Purchase      of      Goods      exceeding      Rs.      50      Lakhs       (Applicable      From      01-July-2021)\\nBenefits      or      perquisites      of      business      or      profession  \\n \\n  Threshold Rs.'),\n",
       " Document(metadata={'source': './data/TDS_and_TCS-rate-chart-2025.pdf', 'chunk_number': 15, 'chunk_type': 'para'}, page_content='TDS      RATE      CHART      FY:      2024-25      (AY:      2025-26) > Section      Nature      of      Payment      Threshold      Indv      /      HUF      Others > TDS      on      Purchase      of      Goods      exceeding      Rs.      50      Lakhs       (Applicable      From      01-July-2021)\\n5000'),\n",
       " Document(metadata={'source': './data/TDS_and_TCS-rate-chart-2025.pdf', 'chunk_number': 16, 'chunk_type': 'para'}, page_content='TDS      RATE      CHART      FY:      2024-25      (AY:      2025-26) > Section      Nature      of      Payment      Threshold      Indv      /      HUF      Others > TDS      on      Purchase      of      Goods      exceeding      Rs.      50      Lakhs       (Applicable      From      01-July-2021) > 2.50      Lakh\\nLakh'),\n",
       " Document(metadata={'source': './data/TDS_and_TCS-rate-chart-2025.pdf', 'chunk_number': 17, 'chunk_type': 'para'}, page_content='TDS      RATE      CHART      FY:      2024-25      (AY:      2025-26) > Section      Nature      of      Payment      Threshold      Indv      /      HUF      Others > TDS      on      Purchase      of      Goods      exceeding      Rs.      50      Lakhs       (Applicable      From      01-July-2021) > 2.50      Lakh\\n50      Lakh'),\n",
       " Document(metadata={'source': './data/TDS_and_TCS-rate-chart-2025.pdf', 'chunk_number': 18, 'chunk_type': 'para'}, page_content='TDS      RATE      CHART      FY:      2024-25      (AY:      2025-26) > Section      Nature      of      Payment      Threshold      Indv      /      HUF      Others > TDS      on      Purchase      of      Goods      exceeding      Rs.      50      Lakhs       (Applicable      From      01-July-2021) > 2.50      Lakh\\n \\n \\n \\n1      Crore  \\n \\n  (Rs.   \\n \\n3      Crores      if  \\n \\n  withdrawl      is      by  \\n \\n  Co-operative  \\n \\n  society)  \\n \\n  20      Lakhs  \\n \\n  (If      ITR      not      filed  \\n \\n  for      previous  \\n \\n  3      years)'),\n",
       " Document(metadata={'source': './data/TDS_and_TCS-rate-chart-2025.pdf', 'chunk_number': 19, 'chunk_type': 'para'}, page_content='TDS      RATE      CHART      FY:      2024-25      (AY:      2025-26) > Section      Nature      of      Payment      Threshold      Indv      /      HUF      Others > In      Excess      of       Rs.      50      Lakhs\\n20000  \\n \\n  Indv   \\n \\n/      HUF  \\n \\n  Others  \\n \\n  10  \\n \\n  10  \\n \\n  10%      for  \\n \\n  residents,  \\n \\n  30%      for  \\n \\n  non-residents  \\n \\n  30%      for  \\n \\n  residents,  \\n \\n  40%      for  \\n \\n  non-residents,  \\n \\n  25%      for  \\n \\n  10  \\n \\n  10  \\n \\n  10%      for  \\n \\n  residents,  \\n \\n  40%      for  \\n \\n  non-residents  \\n \\n  30%,  \\n \\n  residents,  \\n \\n  40%      for  \\n \\n  non-residents,  \\n \\n  25%      for  \\n \\n  5  \\n \\n  5  \\n \\n  2  \\n \\n  (Rs.      20      Lakh   \\n \\n-    \\n \\n1      Crore)  \\n \\n  5  \\n \\n  (Rs.   \\n \\n1      Crore      and  \\n \\n  above)  \\n \\n  Slab      Rate  \\n \\n  5  \\n \\n  5  \\n \\n  NA'),\n",
       " Document(metadata={'source': './data/TDS_and_TCS-rate-chart-2025.pdf', 'chunk_number': 20, 'chunk_type': 'para'}, page_content='TDS      RATE      CHART      FY:      2024-25      (AY:      2025-26) > Section      Nature      of      Payment      Threshold      Indv      /      HUF      Others\\nExisting      TDS      Rate      (%) 1945      Payment      of      consideration      for      transfer      of      virtual      digital      asset      by   \\n \\n1   \\n \\n1       persons      other      than      specified      persons 1945      Payment      of      consideration      for      transfer      of      virtual      digital      asset      by  \\n \\n  specified      persons Note:      TDS      Rates      without      PAN   \\n \\n-      20%      flat      (if      TDS      is      lower      than      20%)'),\n",
       " Document(metadata={'source': './data/TDS_and_TCS-rate-chart-2025.pdf', 'chunk_number': 21, 'chunk_type': 'list_item'}, page_content='TDS      RATE      CHART      FY:      2024-25      (AY:      2025-26) > Section      Nature      of      Payment      Threshold      Indv      /      HUF      Others > Notes:\\n1. The      above      list      covers      most      of      the      sections      applicable      for      domestic      transactions\\n2.Section-206AA      Notwithstanding      anything      contained      in      any      other      provisions      of      the      Income      Tax      Act-1961,      any      person  \\n \\n  entitled      to      receive      any      sum      or      income      or      amount,      on      which      tax      is      deductible      under      Chapter      XVIIB  \\n \\n  (hereafter      referred      to      as      deductee)      shall      furnish      his      Permanent      Account      Number      to      the      person  \\n \\n  responsible      for      deducting      such      tax      (i.e.      deductor),      failing      which      tax      shall      be      deducted      at      the      higher      of  \\n \\n  the      following      rates,      namely:-\\n(i)      at      the      rate      specified      in      the      relevant      provision      of      this      Act;      or\\n(ii)      at      the      rate      or      rates      in      force;      or\\n(iii)      at      the      rate      of      twenty      per      cent:'),\n",
       " Document(metadata={'source': './data/TDS_and_TCS-rate-chart-2025.pdf', 'chunk_number': 22, 'chunk_type': 'para'}, page_content='TDS      RATE      CHART      FY:      2024-25      (AY:      2025-26) > Section      Nature      of      Payment      Threshold      Indv      /      HUF      Others > Notes:\\n \\n \\n  Provided      that      where      the      tax      is      required      to      be      deducted      under      section      194-O,      the      provisions      of  \\n \\n  clause      (iii)      shall      apply      as      if      for      the      words      \"twenty      per      cent\",      the      words      \"five      per      cent\"      had      been  \\n \\n  substituted.'),\n",
       " Document(metadata={'source': './data/TDS_and_TCS-rate-chart-2025.pdf', 'chunk_number': 23, 'chunk_type': 'para'}, page_content='TDS      RATE      CHART      FY:      2024-25      (AY:      2025-26) > Section      Nature      of      Payment      Threshold      Indv      /      HUF      Others > Notes:\\n \\n \\n  Provided      further      that      where      the      tax      is      required      to      be      deducted      under      section      194Q,      the      provisions      of  \\n \\n  clause      (iii)      shall      apply      as      if      for      the      words      \"twenty      per      cent\",      the      words      \"five      per      cent\"      had      been  \\n \\n  substituted.'),\n",
       " Document(metadata={'source': './data/TDS_and_TCS-rate-chart-2025.pdf', 'chunk_number': 24, 'chunk_type': 'list_item'}, page_content='TDS      RATE      CHART      FY:      2024-25      (AY:      2025-26) > Section      Nature      of      Payment      Threshold      Indv      /      HUF      Others > Notes:\\n3. Section-      206AB      Notwithstanding      anything      contained      in      any      other      provisions      of      the      Income      Tax      Act-1961,      where      tax      is  \\n \\n  required      to      be      deducted      at      source      under      the      provisions      of      Chapter      XVIIB,      other      than      sections      192,      192A,  \\n \\n  194B,      194BB,      194LBC      or      194N      on      any      sum      or      income      or      amount      paid,      or      payable      or      credited,      by   \\n \\na      person  \\n \\n  to   \\n \\na      specified      person,      the      tax      shall      be      deducted      at      the      higher      of      the      following      rates,      namely:-\\n(I)      at      twice      the      rate      specified      in      the      relevant      provision      of      the      Act;      or\\n(ii)      at      twice      the      rate      or      rates      in      force;      or\\n(iii)      at      the      rate      of      five      per      cent.'),\n",
       " Document(metadata={'source': './data/TDS_and_TCS-rate-chart-2025.pdf', 'chunk_number': 25, 'chunk_type': 'para'}, page_content='TDS      RATE      CHART      FY:      2024-25      (AY:      2025-26) > Section      Nature      of      Payment      Threshold      Indv      /      HUF      Others > Notes:\\n \\n \\n  If      the      provisions      of      section      206AA      is      applicable      to   \\n \\na      specified      person,      in      addition      to      the      provision      of      this  \\n \\n  section,      the      tax      shall      be      deducted      at      higher      of      the      two      rates      provided      in      this      section      and      in      section  \\n \\n  206AA.'),\n",
       " Document(metadata={'source': './data/TDS_and_TCS-rate-chart-2025.pdf', 'chunk_number': 26, 'chunk_type': 'para'}, page_content='TDS      RATE      CHART      FY:      2024-25      (AY:      2025-26) > Section      Nature      of      Payment      Threshold      Indv      /      HUF      Others > Notes:\\nProvided      that      the      specified      person      shall      not      include   \\n \\na      non-resident      who      does      not      have   \\n \\na       permanent      establishment      in      India.'),\n",
       " Document(metadata={'source': './data/TDS_and_TCS-rate-chart-2025.pdf', 'chunk_number': 27, 'chunk_type': 'para'}, page_content='TDS      RATE      CHART      FY:      2024-25      (AY:      2025-26) > Section      Nature      of      Payment      Threshold      Indv      /      HUF      Others > Notes:\\n \\n \\n  For      the      purposes      of      this      section      \"specified      person\"      means   \\n \\na      person      who      has      not      filed      the      returns      of  \\n \\n  income      for      both      of      the      two      assessment      years      relevant      to      the      two      previous      years      immediately      prior      to  \\n \\n  the      previous      year      in      which      tax      is      required      to      be      deducted,      for      which      the      time      limit      of      filing      return      of  \\n \\n  income      under      sub-section      (1)      of      section      139      has      expired;      and      the      aggregate      of      tax      deducted      at      source  \\n \\n  and      tax      collected      at      source      in      his      case      is      rupees      fifty      thousand      or      more      in      each      of      these      two      previous years.'),\n",
       " Document(metadata={'source': './data/TDS_and_TCS-rate-chart-2025.pdf', 'chunk_number': 28, 'chunk_type': 'para'}, page_content='TDS      RATE      CHART      FY:      2024-25      (AY:      2025-26) > Section      Nature      of      Payment      Threshold      Indv      /      HUF      Others > Notes:\\n192A      Payment      against      EPF      Scheme      10      10 194E      Non-resident      Sportsman      or      Sports      Assn      20      20 194LB      Interest      from      infrastr.\\ndebt      fund      payable      to      non-resident 194LBA      Certain      income      from      units      of   \\n \\na      business      trust 194LBA(a)      Income      referred      to      in      section      10(23FC)(a)      from      units      of   \\n \\na      business trust 194LBA(b)      Income      referred      to      in      section      10(23FC)(b)      from      units      of   \\n \\na      business trust 194LBA(c)      Income      referred      to      in      section      10(23FCA)      from      units      of   \\n \\na      business trust 194LBB      Income      on      units      of      Investment      Fund 194LBC      Income      in      respect      of      investment      in      securitization      trust 194LC*      Interest      from      specified      company      payable      to      non-resident 194LD      Interest      on      certain      bonds      and      govt      securities 194N      Payment      of      certain      amounts      in      cash 194NF      Payment      of      certain      amounts      in      cash      to      non-filers 195      Payment      of      any      other      sum      to   \\n \\na      Non-resident'),\n",
       " Document(metadata={'source': './data/TDS_and_TCS-rate-chart-2025.pdf', 'chunk_number': 29, 'chunk_type': 'list_item'}, page_content='TDS      RATE      CHART      FY:      2024-25      (AY:      2025-26) > Section      Nature      of      Payment      Threshold      Indv      /      HUF      Others > Notes:\\na)      Income      in      respect      of      investment      made      by   \\n \\na      Non-resident  \\n \\n  Indian      Citizen'),\n",
       " Document(metadata={'source': './data/TDS_and_TCS-rate-chart-2025.pdf', 'chunk_number': 30, 'chunk_type': 'list_item'}, page_content='TDS      RATE      CHART      FY:      2024-25      (AY:      2025-26) > Section      Nature      of      Payment      Threshold      Indv      /      HUF      Others > Notes:\\nb)      Income      by      way      of      long-term      capital      gains      referred      to      in      Section  \\n \\n  115E      in      case      of   \\n \\na      Non-resident      Indian      Citizen'),\n",
       " Document(metadata={'source': './data/TDS_and_TCS-rate-chart-2025.pdf', 'chunk_number': 31, 'chunk_type': 'list_item'}, page_content='TDS      RATE      CHART      FY:      2024-25      (AY:      2025-26) > Section      Nature      of      Payment      Threshold      Indv      /      HUF      Others > Notes:\\nc)      Income      by      way      of      long-term      capital      gains      referred      to      in  \\n \\n  sub-clause      (iii)      of      clause      (c)      of      sub-Section      (1)      of      Section      112'),\n",
       " Document(metadata={'source': './data/TDS_and_TCS-rate-chart-2025.pdf', 'chunk_number': 32, 'chunk_type': 'list_item'}, page_content='TDS      RATE      CHART      FY:      2024-25      (AY:      2025-26) > Section      Nature      of      Payment      Threshold      Indv      /      HUF      Others > Notes:\\nd)      Income      by      way      of      long-term      capital      gains      as      referred      to      in  \\n \\n  Section      112A'),\n",
       " Document(metadata={'source': './data/TDS_and_TCS-rate-chart-2025.pdf', 'chunk_number': 33, 'chunk_type': 'list_item'}, page_content='TDS      RATE      CHART      FY:      2024-25      (AY:      2025-26) > Section      Nature      of      Payment      Threshold      Indv      /      HUF      Others > Notes:\\ne)      Income      by      way      of      short-term      capital      gains      referred      to      in  \\n \\n  Section      111A'),\n",
       " Document(metadata={'source': './data/TDS_and_TCS-rate-chart-2025.pdf', 'chunk_number': 34, 'chunk_type': 'list_item'}, page_content='TDS      RATE      CHART      FY:      2024-25      (AY:      2025-26) > Section      Nature      of      Payment      Threshold      Indv      /      HUF      Others > Notes:\\nf)      Any      other      income      by      way      of      long-term      capital      gains      [not      being  \\n \\n  long-term      capital      gains      referred      to      in      clauses      10(33),      10(36)  \\n \\n  and      112A'),\n",
       " Document(metadata={'source': './data/TDS_and_TCS-rate-chart-2025.pdf', 'chunk_number': 35, 'chunk_type': 'list_item'}, page_content='TDS      RATE      CHART      FY:      2024-25      (AY:      2025-26) > Section      Nature      of      Payment      Threshold      Indv      /      HUF      Others > Notes:\\ng)      Income      by      way      of      interest      payable      by      Government      or      an      Indian  \\n \\n  concern      on      moneys      borrowed      or      debt      incurred      by      Government      or  \\n \\n  the      Indian      concern      in      foreign      currency      (not      being      income      by      way  \\n \\n  of      interest      referred      to      in      Section      194LB      or      Section      194LC)'),\n",
       " Document(metadata={'source': './data/TDS_and_TCS-rate-chart-2025.pdf', 'chunk_number': 36, 'chunk_type': 'para'}, page_content='TDS      RATE      CHART      FY:      2024-25      (AY:      2025-26) > Section      Nature      of      Payment      Threshold      Indv      /      HUF      Others > Notes:\\nAccurately      Calculate      Monthly      TDS      for each      of      your      Employees www.salarytds.com  \\n \\n  Section'),\n",
       " Document(metadata={'source': './data/TDS_and_TCS-rate-chart-2025.pdf', 'chunk_number': 37, 'chunk_type': 'para'}, page_content='TDS      RATE      CHART      FY:      2024-25      (AY:      2025-26) > Section      Nature      of      Payment      Threshold      Indv      /      HUF      Others > Notes:\\n196B 196C 196D 196DA  \\n \\n  Nature      of      Payment      Threshold      Indv   \\n \\n/      HUF      Others Existing      TDS      Rate      (%) h)      Income      by      way      of      royalty      payable      by      Government      or      an      Indian      20      20  \\n \\n  concern      in      pursuance      of      an      agreement      made      by      it      with      the  \\n \\n  Government      or      the      Indian      concern      where      such      royalty      is      in  \\n \\n  consideration      for      the      transfer      of      all      or      any      rights      (including      the  \\n \\n  granting      of   \\n \\na      license)      in      respect      of      copyright      in      any      book      on   \\n \\na       subject      referred      to      in      the      first      proviso      to      sub-section      (1A)      of  \\n \\n  Section      115A      of      the      Income-tax      Act,      to      the      Indian      concern,      or      in  \\n \\n  respect      of      any      computer      software      referred      to      in      the      second  \\n \\n  proviso      to      sub-section      (1A)      of      Section      115A      of      the      Income-tax  \\n \\n  Act,      toa      person      resident      in      India'),\n",
       " Document(metadata={'source': './data/TDS_and_TCS-rate-chart-2025.pdf', 'chunk_number': 38, 'chunk_type': 'para'}, page_content='TDS      RATE      CHART      FY:      2024-25      (AY:      2025-26) > Section      Nature      of      Payment      Threshold      Indv      /      HUF      Others > Notes:\\n \\n \\n  Income      by      way      of      royalty      [not      being      royalty      of      the      nature      referred  \\n \\n  to      point      h)      above]      payable      by      Government      or      an      Indian      concern  \\n \\n  in      pursuance      of      an      agreement      made      by      it      with      the      Government  \\n \\n  or      the      Indian      concern      and      where      such      agreement      is      with      an  \\n \\n  Indian      concern,      the      agreement      is      approved      by      the      Central  \\n \\n  Government      or      where      it      relates      to   \\n \\na      matter      included      in      the  \\n \\n  industrial      policy,      for      the      time      being      in      force,      of      the      Government      of  \\n \\n  India,      the      agreementis      in      accordance      with      that      policy  \\n \\n  Income      by      way      of      fees      for      technical      services      payable      by  \\n \\n  Government      or      an      Indian      concern      in      pursuance      of      an      agreement  \\n \\n  made      by      it      with      the      Government      or      the      Indian      concern      and  \\n \\n  where      such      agreement      is      with      an      Indian      concern,      the      agreement  \\n \\n  is      approved      by      the      Central      Government      or      where      it      relates      to   \\n \\na       matter      included      in      the      industrial      policy,      for      the      time      being      in  \\n \\n  force,      of      the      Government      of      India,      the      agreement      is      in  \\n \\n  accordance      with      that      policy'),\n",
       " Document(metadata={'source': './data/TDS_and_TCS-rate-chart-2025.pdf', 'chunk_number': 39, 'chunk_type': 'para'}, page_content='TDS      RATE      CHART      FY:      2024-25      (AY:      2025-26) > Section      Nature      of      Payment      Threshold      Indv      /      HUF      Others > Notes: > k)      Any      other      income\\ncome Foreign      Company      being      unit      holder      in      Mutual      Fund Units      held      by      Off-shore      Fund'),\n",
       " Document(metadata={'source': './data/TDS_and_TCS-rate-chart-2025.pdf', 'chunk_number': 40, 'chunk_type': 'para'}, page_content='TDS      RATE      CHART      FY:      2024-25      (AY:      2025-26) > Section      Nature      of      Payment      Threshold      Indv      /      HUF      Others > Income      from      Foreign      Currency      Bonds\\nIncome      of      FIl      on      Securities Income      of      specified      fund      from      securities'),\n",
       " Document(metadata={'source': './data/TDS_and_TCS-rate-chart-2025.pdf', 'chunk_number': 41, 'chunk_type': 'para'}, page_content='TDS      RATE      CHART      FY:      2024-25      (AY:      2025-26) > Section      Nature      of      Payment      Threshold      Indv      /      HUF      Others > Income      from      Foreign      Currency      Bonds\\nONLINE      No      hassles      to      install      or      update      any      software  \\n \\n  Collection      Codes      under      section      206C'),\n",
       " Document(metadata={'source': './data/TDS_and_TCS-rate-chart-2025.pdf', 'chunk_number': 42, 'chunk_type': 'para'}, page_content='TDS      RATE      CHART      FY:      2024-25      (AY:      2025-26) > Section      Nature      of      Payment      Threshold      Indv      /      HUF      Others > Income      from      Foreign      Currency      Bonds\\nNature      of      Payment      Existing      TCS      Rate      (%) Alcoholic      Liquor      for      human      consumption   \\n \\n&      Tendu      leaves Timber      obtained      under   \\n \\na      forest      lease      or      other      mode Timber      obtained      under      any      other      mode      other      than      forest      lease Any      other      forest      produce      not      being   \\n \\na      timber      or      tendu      leaves'),\n",
       " Document(metadata={'source': './data/TDS_and_TCS-rate-chart-2025.pdf', 'chunk_number': 43, 'chunk_type': 'para'}, page_content='TDS      RATE      CHART      FY:      2024-25      (AY:      2025-26) > Section      Nature      of      Payment      Threshold      Indv      /      HUF      Others > Sale      of      Motor      Vehicle\\nSale      in      cash      of      any      goods      (other      than      bullion) Providing      of      any      service      (other      than      Ch-XVII-B)'),\n",
       " Document(metadata={'source': './data/TDS_and_TCS-rate-chart-2025.pdf', 'chunk_number': 44, 'chunk_type': 'para'}, page_content='TDS      RATE      CHART      FY:      2024-25      (AY:      2025-26) > Section      Nature      of      Payment      Threshold      Indv      /      HUF      Others > Sale      of      Goods\\nLRS   \\n \\n—      Education      or      Medical      Treatment      not      covered      under      Code   \\n \\nP Note:      TCS      Rates      without      PAN   \\n \\n-      Double      of      TCS      rate      as      above      or      5%,      whichever      is      higher'),\n",
       " Document(metadata={'source': './data/TDS_and_TCS-rate-chart-2025.pdf', 'chunk_number': 45, 'chunk_type': 'list_item'}, page_content='TDS      RATE      CHART      FY:      2024-25      (AY:      2025-26) > Section      Nature      of      Payment      Threshold      Indv      /      HUF      Others > Notes:\\n1. The      above      list      covers      most      of      the      sections      applicable      for      domestic      transactions'),\n",
       " Document(metadata={'source': './data/TDS_and_TCS-rate-chart-2025.pdf', 'chunk_number': 46, 'chunk_type': 'list_item'}, page_content='TDS      RATE      CHART      FY:      2024-25      (AY:      2025-26) > Section      Nature      of      Payment      Threshold      Indv      /      HUF      Others > Notes:\\n2. Section   \\n \\n-      206CC      Notwithstanding      anything      contained      in      any      other      provisions      of      the      Income      Tax      Act-1961,      any      person      paying  \\n \\n  any      sum      or      amount,      on      which      tax      is      collectible      at      source      under      Chapter      XVII-BB      (herein      referred      to      as  \\n \\n  collectee)      shall      furnish      his      Permanent      Account      Number      to      the      person      responsible      for      collecting      such      tax  \\n \\n  (herein      referred      to      as      collector),      failing      which      tax      shall      be      collected      at      the      higher      of      the      following      rates,      namely:\\n(I)      at      twice      the      rate      specified      in      the      relevant      provision      of      this      Act;      or\\n(ii)      at      the      rate      of      five      per      cent.'),\n",
       " Document(metadata={'source': './data/TDS_and_TCS-rate-chart-2025.pdf', 'chunk_number': 47, 'chunk_type': 'para'}, page_content='TDS      RATE      CHART      FY:      2024-25      (AY:      2025-26) > Section      Nature      of      Payment      Threshold      Indv      /      HUF      Others > Notes:\\nThe      provisions      of      this      section      shall      not      apply      to   \\n \\na      non-resident      who      does      not      have      permanent      establishment      in      India.'),\n",
       " Document(metadata={'source': './data/TDS_and_TCS-rate-chart-2025.pdf', 'chunk_number': 48, 'chunk_type': 'list_item'}, page_content='TDS      RATE      CHART      FY:      2024-25      (AY:      2025-26) > Section      Nature      of      Payment      Threshold      Indv      /      HUF      Others > Notes:\\n3.Section-206CCA      Notwithstanding      anything      contained      in      any      other      provisions      of      the      Income      Tax      Act-1961,      where      tax      is  \\n \\n  required      to      be      collected      at      source      under      the      provisions      of      Chapter      XVII-BB,      on      any      sum      or      amount      received  \\n \\n  by   \\n \\na      person      (hereafter      referred      to      as      collectee)      from   \\n \\na      specified      person,      the      tax      shall      be      collected      at      the  \\n \\n  higher      of      the      following      two      rates,      namely:\\n(I)      at      twice      the      rate      specified      in      the      relevant      provision      of      the      Act;      or\\n(ii)      at      the      rate      of      five      per      cent.'),\n",
       " Document(metadata={'source': './data/TDS_and_TCS-rate-chart-2025.pdf', 'chunk_number': 49, 'chunk_type': 'para'}, page_content='TDS      RATE      CHART      FY:      2024-25      (AY:      2025-26) > Section      Nature      of      Payment      Threshold      Indv      /      HUF      Others > Notes:\\n \\n \\n  If      the      provisions      of      section      206CC      is      applicable      to   \\n \\na      specified      person,      in      addition      to      the      provisions      of      this  \\n \\n  section,      the      tax      shall      be      collected      at      higher      of      the      two      rates      provided      in      this      section      and      in      section      206CC.\\n \\n \\n  For      the      purposes      of      this      section      \"specified      person\"      means   \\n \\na      person      who      has      not      filed      the      returns      of      income      for  \\n \\n  both      of      the      two      assessment      years      relevant      to      the      two      previous      years      immediately      prior      to      the      previous      year      in  \\n \\n  which      tax      is      required      to      be      collected,      for      which      the      time      limit      of      filing      return      of      income      under      sub-section      (1)  \\n \\n  of      section      139      has      expired;      and      the      aggregate      of      tax      deducted      at      source      and      tax      collected      at      source      in      his      case  \\n \\n  is      rupees      fifty      thousand      or      more      in      each      of      these      two      previous      years:'),\n",
       " Document(metadata={'source': './data/TDS_and_TCS-rate-chart-2025.pdf', 'chunk_number': 50, 'chunk_type': 'para'}, page_content='TDS      RATE      CHART      FY:      2024-25      (AY:      2025-26) > Section      Nature      of      Payment      Threshold      Indv      /      HUF      Others > Notes:\\nProvided      that      the      specified      person      shall      not      include   \\n \\na      non      resident      who      does      not      have   \\n \\na      permanent  \\n \\n  establishment      in      India.'),\n",
       " Document(metadata={'source': './data/TDS_and_TCS-rate-chart-2025.pdf', 'chunk_number': 51, 'chunk_type': 'para'}, page_content='TDS      RATE      CHART      FY:      2024-25      (AY:      2025-26) > Section      Nature      of      Payment      Threshold      Indv      /      HUF      Others > Notes:\\nPDS      Infotech      (P)      Ltd      (ISO      27001:2013   \\n \\n|      9001:2015)   \\n \\n|      Phone:      +91      33      4084      5500,      +91      98364      90007      Email   \\n \\n:      info@pdsinfotech.com')]"
      ]
     },
     "execution_count": 16,
     "metadata": {},
     "output_type": "execute_result"
    }
   ],
   "source": [
    "docs"
   ]
  },
  {
   "cell_type": "code",
   "execution_count": 25,
   "metadata": {},
   "outputs": [
    {
     "name": "stdout",
     "output_type": "stream",
     "text": [
      "TDS      RATE      CHART      FY:      2024-25      (AY:      2025-26) > Section      Nature      of      Payment      Threshold      Indv      /      HUF      Others > Notes:\n",
      "The      provisions      of      this      section      shall      not      apply      to   \n",
      " \n",
      "a      non-resident      who      does      not      have      permanent      establishment      in      India.\n"
     ]
    }
   ],
   "source": [
    "print(docs[-5].page_content)"
   ]
  },
  {
   "cell_type": "code",
   "execution_count": null,
   "metadata": {},
   "outputs": [],
   "source": []
  }
 ],
 "metadata": {
  "kernelspec": {
   "display_name": "langchain_regular",
   "language": "python",
   "name": "python3"
  },
  "language_info": {
   "codemirror_mode": {
    "name": "ipython",
    "version": 3
   },
   "file_extension": ".py",
   "mimetype": "text/x-python",
   "name": "python",
   "nbconvert_exporter": "python",
   "pygments_lexer": "ipython3",
   "version": "3.10.14"
  }
 },
 "nbformat": 4,
 "nbformat_minor": 2
}
